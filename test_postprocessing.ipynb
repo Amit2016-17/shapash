{
 "cells": [
  {
   "cell_type": "code",
   "execution_count": 1,
   "metadata": {},
   "outputs": [],
   "source": [
    "import sys\n",
    "import json\n",
    "import pandas as pd\n",
    "import numpy as np\n",
    "from sklearn.model_selection import train_test_split\n",
    "from category_encoders import OrdinalEncoder\n",
    "import matplotlib.pyplot as plt\n",
    "from sklearn.ensemble import RandomForestClassifier\n",
    "import shapash\n",
    "from shapash.data.data_loader import data_loading\n"
   ]
  },
  {
   "cell_type": "code",
   "execution_count": 2,
   "metadata": {},
   "outputs": [],
   "source": [
    "from shapash.explainer.smart_explainer import SmartExplainer"
   ]
  },
  {
   "cell_type": "code",
   "execution_count": 3,
   "metadata": {},
   "outputs": [],
   "source": [
    "data, dic = data_loading('titanic')\n",
    "Xprepro = data.drop(['Survived'], axis = 1)\n",
    "y = data.Survived"
   ]
  },
  {
   "cell_type": "code",
   "execution_count": 4,
   "metadata": {},
   "outputs": [],
   "source": [
    "varcol = Xprepro.select_dtypes(object).columns.tolist()"
   ]
  },
  {
   "cell_type": "code",
   "execution_count": 5,
   "metadata": {},
   "outputs": [],
   "source": [
    "categ_encod = OrdinalEncoder(cols = varcol, return_df=True).fit(Xprepro)"
   ]
  },
  {
   "cell_type": "code",
   "execution_count": 6,
   "metadata": {},
   "outputs": [],
   "source": [
    "X = categ_encod.transform(Xprepro)"
   ]
  },
  {
   "cell_type": "code",
   "execution_count": 7,
   "metadata": {},
   "outputs": [],
   "source": [
    "Xtrain, Xtest, ytrain, ytest = train_test_split(X, y, test_size = 0.2)"
   ]
  },
  {
   "cell_type": "code",
   "execution_count": 8,
   "metadata": {},
   "outputs": [],
   "source": [
    "model = RandomForestClassifier()"
   ]
  },
  {
   "cell_type": "code",
   "execution_count": 9,
   "metadata": {},
   "outputs": [
    {
     "data": {
      "text/plain": [
       "RandomForestClassifier()"
      ]
     },
     "execution_count": 9,
     "metadata": {},
     "output_type": "execute_result"
    }
   ],
   "source": [
    "model.fit(Xtrain, ytrain)"
   ]
  },
  {
   "cell_type": "code",
   "execution_count": 10,
   "metadata": {},
   "outputs": [],
   "source": [
    "ypred = pd.DataFrame(model.predict(Xtest), index= Xtest.index)\n",
    "ypred_proba = pd.DataFrame(model.predict_proba(Xtest), index = Xtest.index)"
   ]
  },
  {
   "cell_type": "code",
   "execution_count": 11,
   "metadata": {},
   "outputs": [],
   "source": [
    "xpl = SmartExplainer(features_dict=dic)"
   ]
  },
  {
   "cell_type": "code",
   "execution_count": 35,
   "metadata": {},
   "outputs": [],
   "source": [
    "postprocess = {'Pclass' : {'type' : 'prefix', 'rule': 'Class type : '},\n",
    "               'Fare' : {'type': 'suffix', 'rule': '$'},\n",
    "              3 : {'type' : 'suffix', 'rule' : ' yo'},\n",
    "              'Sex' : {'type': 'transcoding', 'rule':{'male': 'Homme', 'female':'Femme'}},\n",
    "              'Port of embarkation': {'type' : 'case', 'rule': 'upper'}}"
   ]
  },
  {
   "cell_type": "code",
   "execution_count": 36,
   "metadata": {},
   "outputs": [
    {
     "name": "stdout",
     "output_type": "stream",
     "text": [
      "Backend: Shap TreeExplainer\n"
     ]
    }
   ],
   "source": [
    "xpl.compile(Xtest, model, preprocessing=categ_encod, postprocessing=postprocess)"
   ]
  },
  {
   "cell_type": "code",
   "execution_count": null,
   "metadata": {},
   "outputs": [],
   "source": []
  },
  {
   "cell_type": "code",
   "execution_count": 37,
   "metadata": {},
   "outputs": [
    {
     "data": {
      "text/html": [
       "<div>\n",
       "<style scoped>\n",
       "    .dataframe tbody tr th:only-of-type {\n",
       "        vertical-align: middle;\n",
       "    }\n",
       "\n",
       "    .dataframe tbody tr th {\n",
       "        vertical-align: top;\n",
       "    }\n",
       "\n",
       "    .dataframe thead th {\n",
       "        text-align: right;\n",
       "    }\n",
       "</style>\n",
       "<table border=\"1\" class=\"dataframe\">\n",
       "  <thead>\n",
       "    <tr style=\"text-align: right;\">\n",
       "      <th></th>\n",
       "      <th>Pclass</th>\n",
       "      <th>Name</th>\n",
       "      <th>Sex</th>\n",
       "      <th>Age</th>\n",
       "      <th>SibSp</th>\n",
       "      <th>Parch</th>\n",
       "      <th>Fare</th>\n",
       "      <th>Embarked</th>\n",
       "      <th>Title</th>\n",
       "    </tr>\n",
       "    <tr>\n",
       "      <th>PassengerId</th>\n",
       "      <th></th>\n",
       "      <th></th>\n",
       "      <th></th>\n",
       "      <th></th>\n",
       "      <th></th>\n",
       "      <th></th>\n",
       "      <th></th>\n",
       "      <th></th>\n",
       "      <th></th>\n",
       "    </tr>\n",
       "  </thead>\n",
       "  <tbody>\n",
       "    <tr>\n",
       "      <th>147</th>\n",
       "      <td>Class type : Third class</td>\n",
       "      <td>Andersson August Edvard (\"Wennerstrom\")</td>\n",
       "      <td>Homme</td>\n",
       "      <td>27.0 yo</td>\n",
       "      <td>0</td>\n",
       "      <td>0</td>\n",
       "      <td>7.8$</td>\n",
       "      <td>SOUTHAMPTON</td>\n",
       "      <td>Mr</td>\n",
       "    </tr>\n",
       "    <tr>\n",
       "      <th>545</th>\n",
       "      <td>Class type : First class</td>\n",
       "      <td>Douglas Walter Donald</td>\n",
       "      <td>Homme</td>\n",
       "      <td>50.0 yo</td>\n",
       "      <td>1</td>\n",
       "      <td>0</td>\n",
       "      <td>106.42$</td>\n",
       "      <td>CHERBOURG</td>\n",
       "      <td>Mr</td>\n",
       "    </tr>\n",
       "    <tr>\n",
       "      <th>701</th>\n",
       "      <td>Class type : First class</td>\n",
       "      <td>Astor John Jacob (Madeleine Talmadge Force)</td>\n",
       "      <td>Femme</td>\n",
       "      <td>18.0 yo</td>\n",
       "      <td>1</td>\n",
       "      <td>0</td>\n",
       "      <td>227.52$</td>\n",
       "      <td>CHERBOURG</td>\n",
       "      <td>Mrs</td>\n",
       "    </tr>\n",
       "    <tr>\n",
       "      <th>633</th>\n",
       "      <td>Class type : First class</td>\n",
       "      <td>Stahelin-Maeglin Max</td>\n",
       "      <td>Homme</td>\n",
       "      <td>32.0 yo</td>\n",
       "      <td>0</td>\n",
       "      <td>0</td>\n",
       "      <td>30.5$</td>\n",
       "      <td>CHERBOURG</td>\n",
       "      <td>Dr</td>\n",
       "    </tr>\n",
       "    <tr>\n",
       "      <th>886</th>\n",
       "      <td>Class type : Third class</td>\n",
       "      <td>Rice William (Margaret Norton)</td>\n",
       "      <td>Femme</td>\n",
       "      <td>39.0 yo</td>\n",
       "      <td>0</td>\n",
       "      <td>5</td>\n",
       "      <td>29.12$</td>\n",
       "      <td>QUEENSTOWN</td>\n",
       "      <td>Mrs</td>\n",
       "    </tr>\n",
       "    <tr>\n",
       "      <th>...</th>\n",
       "      <td>...</td>\n",
       "      <td>...</td>\n",
       "      <td>...</td>\n",
       "      <td>...</td>\n",
       "      <td>...</td>\n",
       "      <td>...</td>\n",
       "      <td>...</td>\n",
       "      <td>...</td>\n",
       "      <td>...</td>\n",
       "    </tr>\n",
       "    <tr>\n",
       "      <th>150</th>\n",
       "      <td>Class type : Second class</td>\n",
       "      <td>Byles Thomas Roussel Davids</td>\n",
       "      <td>Homme</td>\n",
       "      <td>42.0 yo</td>\n",
       "      <td>0</td>\n",
       "      <td>0</td>\n",
       "      <td>13.0$</td>\n",
       "      <td>SOUTHAMPTON</td>\n",
       "      <td>Rev</td>\n",
       "    </tr>\n",
       "    <tr>\n",
       "      <th>839</th>\n",
       "      <td>Class type : Third class</td>\n",
       "      <td>Chip Chang</td>\n",
       "      <td>Homme</td>\n",
       "      <td>32.0 yo</td>\n",
       "      <td>0</td>\n",
       "      <td>0</td>\n",
       "      <td>56.5$</td>\n",
       "      <td>SOUTHAMPTON</td>\n",
       "      <td>Mr</td>\n",
       "    </tr>\n",
       "    <tr>\n",
       "      <th>24</th>\n",
       "      <td>Class type : First class</td>\n",
       "      <td>Sloper William Thompson</td>\n",
       "      <td>Homme</td>\n",
       "      <td>28.0 yo</td>\n",
       "      <td>0</td>\n",
       "      <td>0</td>\n",
       "      <td>35.5$</td>\n",
       "      <td>SOUTHAMPTON</td>\n",
       "      <td>Mr</td>\n",
       "    </tr>\n",
       "    <tr>\n",
       "      <th>27</th>\n",
       "      <td>Class type : Third class</td>\n",
       "      <td>Emir Farred Chehab</td>\n",
       "      <td>Homme</td>\n",
       "      <td>29.5 yo</td>\n",
       "      <td>0</td>\n",
       "      <td>0</td>\n",
       "      <td>7.22$</td>\n",
       "      <td>CHERBOURG</td>\n",
       "      <td>Mr</td>\n",
       "    </tr>\n",
       "    <tr>\n",
       "      <th>105</th>\n",
       "      <td>Class type : Third class</td>\n",
       "      <td>Gustafsson Anders Vilhelm</td>\n",
       "      <td>Homme</td>\n",
       "      <td>37.0 yo</td>\n",
       "      <td>2</td>\n",
       "      <td>0</td>\n",
       "      <td>7.92$</td>\n",
       "      <td>SOUTHAMPTON</td>\n",
       "      <td>Mr</td>\n",
       "    </tr>\n",
       "  </tbody>\n",
       "</table>\n",
       "<p>179 rows × 9 columns</p>\n",
       "</div>"
      ],
      "text/plain": [
       "                                Pclass  \\\n",
       "PassengerId                              \n",
       "147           Class type : Third class   \n",
       "545           Class type : First class   \n",
       "701           Class type : First class   \n",
       "633           Class type : First class   \n",
       "886           Class type : Third class   \n",
       "...                                ...   \n",
       "150          Class type : Second class   \n",
       "839           Class type : Third class   \n",
       "24            Class type : First class   \n",
       "27            Class type : Third class   \n",
       "105           Class type : Third class   \n",
       "\n",
       "                                                    Name    Sex      Age  \\\n",
       "PassengerId                                                                \n",
       "147              Andersson August Edvard (\"Wennerstrom\")  Homme  27.0 yo   \n",
       "545                                Douglas Walter Donald  Homme  50.0 yo   \n",
       "701          Astor John Jacob (Madeleine Talmadge Force)  Femme  18.0 yo   \n",
       "633                                 Stahelin-Maeglin Max  Homme  32.0 yo   \n",
       "886                       Rice William (Margaret Norton)  Femme  39.0 yo   \n",
       "...                                                  ...    ...      ...   \n",
       "150                          Byles Thomas Roussel Davids  Homme  42.0 yo   \n",
       "839                                           Chip Chang  Homme  32.0 yo   \n",
       "24                               Sloper William Thompson  Homme  28.0 yo   \n",
       "27                                    Emir Farred Chehab  Homme  29.5 yo   \n",
       "105                            Gustafsson Anders Vilhelm  Homme  37.0 yo   \n",
       "\n",
       "             SibSp  Parch     Fare     Embarked Title  \n",
       "PassengerId                                            \n",
       "147              0      0     7.8$  SOUTHAMPTON    Mr  \n",
       "545              1      0  106.42$    CHERBOURG    Mr  \n",
       "701              1      0  227.52$    CHERBOURG   Mrs  \n",
       "633              0      0    30.5$    CHERBOURG    Dr  \n",
       "886              0      5   29.12$   QUEENSTOWN   Mrs  \n",
       "...            ...    ...      ...          ...   ...  \n",
       "150              0      0    13.0$  SOUTHAMPTON   Rev  \n",
       "839              0      0    56.5$  SOUTHAMPTON    Mr  \n",
       "24               0      0    35.5$  SOUTHAMPTON    Mr  \n",
       "27               0      0    7.22$    CHERBOURG    Mr  \n",
       "105              2      0    7.92$  SOUTHAMPTON    Mr  \n",
       "\n",
       "[179 rows x 9 columns]"
      ]
     },
     "execution_count": 37,
     "metadata": {},
     "output_type": "execute_result"
    }
   ],
   "source": [
    "xpl.x_pred"
   ]
  },
  {
   "cell_type": "code",
   "execution_count": 16,
   "metadata": {},
   "outputs": [
    {
     "data": {
      "application/vnd.plotly.v1+json": {
       "config": {
        "plotlyServerURL": "https://plot.ly"
       },
       "data": [
        {
         "customdata": [
          "<b>Title of passenger :</b><br />Mr"
         ],
         "hovertemplate": "%{customdata}<br />Contribution: %{x:.4f}<extra></extra>",
         "marker": {
          "color": "rgba(74, 99, 138, 0.7)",
          "line": {
           "color": "rgba(27, 28, 28, 1.0)",
           "width": 0.5
          }
         },
         "orientation": "h",
         "showlegend": false,
         "type": "bar",
         "x": [
          -0.09727450776795156
         ],
         "y": [
          "<b>Title of passenger :</b><br />Mr"
         ]
        },
        {
         "customdata": [
          "<b>Sex :</b><br />Homme"
         ],
         "hovertemplate": "%{customdata}<br />Contribution: %{x:.4f}<extra></extra>",
         "marker": {
          "color": "rgba(74, 99, 138, 0.7)",
          "line": {
           "color": "rgba(27, 28, 28, 1.0)",
           "width": 0.5
          }
         },
         "orientation": "h",
         "showlegend": false,
         "type": "bar",
         "x": [
          -0.0605691678667624
         ],
         "y": [
          "<b>Sex :</b><br />Homme"
         ]
        },
        {
         "customdata": [
          "<b>Ticket class :</b><br />Class type : Third class"
         ],
         "hovertemplate": "%{customdata}<br />Contribution: %{x:.4f}<extra></extra>",
         "marker": {
          "color": "rgba(74, 99, 138, 0.7)",
          "line": {
           "color": "rgba(27, 28, 28, 1.0)",
           "width": 0.5
          }
         },
         "orientation": "h",
         "showlegend": false,
         "type": "bar",
         "x": [
          -0.019105146732033215
         ],
         "y": [
          "<b>Ticket class :</b><br />Class type : Third class"
         ]
        },
        {
         "customdata": [
          "<b>Relatives like children or parents :</b><br />0"
         ],
         "hovertemplate": "%{customdata}<br />Contribution: %{x:.4f}<extra></extra>",
         "marker": {
          "color": "rgba(244, 192, 0, 1.0)",
          "line": {
           "color": "rgba(52, 55, 54, 0.8)",
           "width": 0.5
          }
         },
         "orientation": "h",
         "showlegend": false,
         "type": "bar",
         "x": [
          0.001692034933768747
         ],
         "y": [
          "<b>Relatives like children or parents :</b><br />0"
         ]
        },
        {
         "customdata": [
          "<b>Passenger fare :</b><br />7.22"
         ],
         "hovertemplate": "%{customdata}<br />Contribution: %{x:.4f}<extra></extra>",
         "marker": {
          "color": "rgba(244, 192, 0, 1.0)",
          "line": {
           "color": "rgba(52, 55, 54, 0.8)",
           "width": 0.5
          }
         },
         "orientation": "h",
         "showlegend": false,
         "type": "bar",
         "x": [
          0.009546731016252396
         ],
         "y": [
          "<b>Passenger fare :</b><br />7.22"
         ]
        },
        {
         "customdata": [
          "<b>Relatives such as brother or wife :</b><br />0"
         ],
         "hovertemplate": "%{customdata}<br />Contribution: %{x:.4f}<extra></extra>",
         "marker": {
          "color": "rgba(244, 192, 0, 1.0)",
          "line": {
           "color": "rgba(52, 55, 54, 0.8)",
           "width": 0.5
          }
         },
         "orientation": "h",
         "showlegend": false,
         "type": "bar",
         "x": [
          0.023432998252531697
         ],
         "y": [
          "<b>Relatives such as brother or wife :</b><br />0"
         ]
        },
        {
         "customdata": [
          "<b>Age :</b><br />29.5 yo"
         ],
         "hovertemplate": "%{customdata}<br />Contribution: %{x:.4f}<extra></extra>",
         "marker": {
          "color": "rgba(244, 192, 0, 1.0)",
          "line": {
           "color": "rgba(52, 55, 54, 0.8)",
           "width": 0.5
          }
         },
         "orientation": "h",
         "showlegend": false,
         "type": "bar",
         "x": [
          0.02856088785849545
         ],
         "y": [
          "<b>Age :</b><br />29.5 yo"
         ]
        },
        {
         "customdata": [
          "<b>Port of embarkation :</b><br />CHERBOURG"
         ],
         "hovertemplate": "%{customdata}<br />Contribution: %{x:.4f}<extra></extra>",
         "marker": {
          "color": "rgba(244, 192, 0, 1.0)",
          "line": {
           "color": "rgba(52, 55, 54, 0.8)",
           "width": 0.5
          }
         },
         "orientation": "h",
         "showlegend": false,
         "type": "bar",
         "x": [
          0.10769122401225432
         ],
         "y": [
          "<b>Port of embarkation :</b><br />CHERBOURG"
         ]
        },
        {
         "customdata": [
          "<b>Name, First name :</b><br />Emir Farred Chehab"
         ],
         "hovertemplate": "%{customdata}<br />Contribution: %{x:.4f}<extra></extra>",
         "marker": {
          "color": "rgba(244, 192, 0, 1.0)",
          "line": {
           "color": "rgba(52, 55, 54, 0.8)",
           "width": 0.5
          }
         },
         "orientation": "h",
         "showlegend": false,
         "type": "bar",
         "x": [
          0.24040696876535458
         ],
         "y": [
          "<b>Name, First name :</b><br />Emir Farred Chehab"
         ]
        }
       ],
       "layout": {
        "barmode": "group",
        "height": 550,
        "hovermode": "closest",
        "margin": {
         "b": 70,
         "l": 150,
         "r": 20,
         "t": 95
        },
        "template": {
         "data": {
          "scatter": [
           {
            "type": "scatter"
           }
          ]
         }
        },
        "title": {
         "font": {
          "color": "rgb(50, 50, 50)",
          "family": "Arial",
          "size": 24
         },
         "text": "Local Explanation - Id: <b>27</b><span style='font-size: 12px;'><br />Response: <b>1</b> - Proba: <b>0.6300</b></span>",
         "x": 0.5,
         "xanchor": "center",
         "y": 0.9,
         "yanchor": "middle"
        },
        "width": 900,
        "xaxis": {
         "automargin": true,
         "title": {
          "font": {
           "color": "rgb(50, 50, 50)",
           "family": "Arial Black",
           "size": 16
          },
          "text": "Contribution"
         }
        },
        "yaxis": {
         "automargin": true,
         "title": {
          "font": {
           "color": "rgb(50, 50, 50)",
           "family": "Arial Black",
           "size": 16
          }
         },
         "type": "category"
        }
       }
      },
      "text/html": [
       "<div>\n",
       "        \n",
       "        \n",
       "            <div id=\"e830f907-d711-4ddb-b276-e1fc0f549ab6\" class=\"plotly-graph-div\" style=\"height:550px; width:900px;\"></div>\n",
       "            <script type=\"text/javascript\">\n",
       "                require([\"plotly\"], function(Plotly) {\n",
       "                    window.PLOTLYENV=window.PLOTLYENV || {};\n",
       "                    \n",
       "                if (document.getElementById(\"e830f907-d711-4ddb-b276-e1fc0f549ab6\")) {\n",
       "                    Plotly.newPlot(\n",
       "                        'e830f907-d711-4ddb-b276-e1fc0f549ab6',\n",
       "                        [{\"customdata\": [\"<b>Title of passenger :</b><br />Mr\"], \"hovertemplate\": \"%{customdata}<br />Contribution: %{x:.4f}<extra></extra>\", \"marker\": {\"color\": \"rgba(74, 99, 138, 0.7)\", \"line\": {\"color\": \"rgba(27, 28, 28, 1.0)\", \"width\": 0.5}}, \"orientation\": \"h\", \"showlegend\": false, \"type\": \"bar\", \"x\": [-0.09727450776795156], \"y\": [\"<b>Title of passenger :</b><br />Mr\"]}, {\"customdata\": [\"<b>Sex :</b><br />Homme\"], \"hovertemplate\": \"%{customdata}<br />Contribution: %{x:.4f}<extra></extra>\", \"marker\": {\"color\": \"rgba(74, 99, 138, 0.7)\", \"line\": {\"color\": \"rgba(27, 28, 28, 1.0)\", \"width\": 0.5}}, \"orientation\": \"h\", \"showlegend\": false, \"type\": \"bar\", \"x\": [-0.0605691678667624], \"y\": [\"<b>Sex :</b><br />Homme\"]}, {\"customdata\": [\"<b>Ticket class :</b><br />Class type : Third class\"], \"hovertemplate\": \"%{customdata}<br />Contribution: %{x:.4f}<extra></extra>\", \"marker\": {\"color\": \"rgba(74, 99, 138, 0.7)\", \"line\": {\"color\": \"rgba(27, 28, 28, 1.0)\", \"width\": 0.5}}, \"orientation\": \"h\", \"showlegend\": false, \"type\": \"bar\", \"x\": [-0.019105146732033215], \"y\": [\"<b>Ticket class :</b><br />Class type : Third class\"]}, {\"customdata\": [\"<b>Relatives like children or parents :</b><br />0\"], \"hovertemplate\": \"%{customdata}<br />Contribution: %{x:.4f}<extra></extra>\", \"marker\": {\"color\": \"rgba(244, 192, 0, 1.0)\", \"line\": {\"color\": \"rgba(52, 55, 54, 0.8)\", \"width\": 0.5}}, \"orientation\": \"h\", \"showlegend\": false, \"type\": \"bar\", \"x\": [0.001692034933768747], \"y\": [\"<b>Relatives like children or parents :</b><br />0\"]}, {\"customdata\": [\"<b>Passenger fare :</b><br />7.22\"], \"hovertemplate\": \"%{customdata}<br />Contribution: %{x:.4f}<extra></extra>\", \"marker\": {\"color\": \"rgba(244, 192, 0, 1.0)\", \"line\": {\"color\": \"rgba(52, 55, 54, 0.8)\", \"width\": 0.5}}, \"orientation\": \"h\", \"showlegend\": false, \"type\": \"bar\", \"x\": [0.009546731016252396], \"y\": [\"<b>Passenger fare :</b><br />7.22\"]}, {\"customdata\": [\"<b>Relatives such as brother or wife :</b><br />0\"], \"hovertemplate\": \"%{customdata}<br />Contribution: %{x:.4f}<extra></extra>\", \"marker\": {\"color\": \"rgba(244, 192, 0, 1.0)\", \"line\": {\"color\": \"rgba(52, 55, 54, 0.8)\", \"width\": 0.5}}, \"orientation\": \"h\", \"showlegend\": false, \"type\": \"bar\", \"x\": [0.023432998252531697], \"y\": [\"<b>Relatives such as brother or wife :</b><br />0\"]}, {\"customdata\": [\"<b>Age :</b><br />29.5 yo\"], \"hovertemplate\": \"%{customdata}<br />Contribution: %{x:.4f}<extra></extra>\", \"marker\": {\"color\": \"rgba(244, 192, 0, 1.0)\", \"line\": {\"color\": \"rgba(52, 55, 54, 0.8)\", \"width\": 0.5}}, \"orientation\": \"h\", \"showlegend\": false, \"type\": \"bar\", \"x\": [0.02856088785849545], \"y\": [\"<b>Age :</b><br />29.5 yo\"]}, {\"customdata\": [\"<b>Port of embarkation :</b><br />CHERBOURG\"], \"hovertemplate\": \"%{customdata}<br />Contribution: %{x:.4f}<extra></extra>\", \"marker\": {\"color\": \"rgba(244, 192, 0, 1.0)\", \"line\": {\"color\": \"rgba(52, 55, 54, 0.8)\", \"width\": 0.5}}, \"orientation\": \"h\", \"showlegend\": false, \"type\": \"bar\", \"x\": [0.10769122401225432], \"y\": [\"<b>Port of embarkation :</b><br />CHERBOURG\"]}, {\"customdata\": [\"<b>Name, First name :</b><br />Emir Farred Chehab\"], \"hovertemplate\": \"%{customdata}<br />Contribution: %{x:.4f}<extra></extra>\", \"marker\": {\"color\": \"rgba(244, 192, 0, 1.0)\", \"line\": {\"color\": \"rgba(52, 55, 54, 0.8)\", \"width\": 0.5}}, \"orientation\": \"h\", \"showlegend\": false, \"type\": \"bar\", \"x\": [0.24040696876535458], \"y\": [\"<b>Name, First name :</b><br />Emir Farred Chehab\"]}],\n",
       "                        {\"barmode\": \"group\", \"height\": 550, \"hovermode\": \"closest\", \"margin\": {\"b\": 70, \"l\": 150, \"r\": 20, \"t\": 95}, \"template\": {\"data\": {\"scatter\": [{\"type\": \"scatter\"}]}}, \"title\": {\"font\": {\"color\": \"rgb(50, 50, 50)\", \"family\": \"Arial\", \"size\": 24}, \"text\": \"Local Explanation - Id: <b>27</b><span style='font-size: 12px;'><br />Response: <b>1</b> - Proba: <b>0.6300</b></span>\", \"x\": 0.5, \"xanchor\": \"center\", \"y\": 0.9, \"yanchor\": \"middle\"}, \"width\": 900, \"xaxis\": {\"automargin\": true, \"title\": {\"font\": {\"color\": \"rgb(50, 50, 50)\", \"family\": \"Arial Black\", \"size\": 16}, \"text\": \"Contribution\"}}, \"yaxis\": {\"automargin\": true, \"title\": {\"font\": {\"color\": \"rgb(50, 50, 50)\", \"family\": \"Arial Black\", \"size\": 16}}, \"type\": \"category\"}},\n",
       "                        {\"responsive\": true}\n",
       "                    ).then(function(){\n",
       "                            \n",
       "var gd = document.getElementById('e830f907-d711-4ddb-b276-e1fc0f549ab6');\n",
       "var x = new MutationObserver(function (mutations, observer) {{\n",
       "        var display = window.getComputedStyle(gd).display;\n",
       "        if (!display || display === 'none') {{\n",
       "            console.log([gd, 'removed!']);\n",
       "            Plotly.purge(gd);\n",
       "            observer.disconnect();\n",
       "        }}\n",
       "}});\n",
       "\n",
       "// Listen for the removal of the full notebook cells\n",
       "var notebookContainer = gd.closest('#notebook-container');\n",
       "if (notebookContainer) {{\n",
       "    x.observe(notebookContainer, {childList: true});\n",
       "}}\n",
       "\n",
       "// Listen for the clearing of the current output cell\n",
       "var outputEl = gd.closest('.output');\n",
       "if (outputEl) {{\n",
       "    x.observe(outputEl, {childList: true});\n",
       "}}\n",
       "\n",
       "                        })\n",
       "                };\n",
       "                });\n",
       "            </script>\n",
       "        </div>"
      ]
     },
     "metadata": {},
     "output_type": "display_data"
    }
   ],
   "source": [
    "xpl.plot.local_plot(index=27)"
   ]
  },
  {
   "cell_type": "code",
   "execution_count": 17,
   "metadata": {
    "scrolled": true
   },
   "outputs": [
    {
     "data": {
      "text/html": [
       "<div>\n",
       "<style scoped>\n",
       "    .dataframe tbody tr th:only-of-type {\n",
       "        vertical-align: middle;\n",
       "    }\n",
       "\n",
       "    .dataframe tbody tr th {\n",
       "        vertical-align: top;\n",
       "    }\n",
       "\n",
       "    .dataframe thead th {\n",
       "        text-align: right;\n",
       "    }\n",
       "</style>\n",
       "<table border=\"1\" class=\"dataframe\">\n",
       "  <thead>\n",
       "    <tr style=\"text-align: right;\">\n",
       "      <th></th>\n",
       "      <th>feature_0</th>\n",
       "      <th>feature_1</th>\n",
       "      <th>feature_2</th>\n",
       "      <th>feature_3</th>\n",
       "      <th>feature_4</th>\n",
       "      <th>feature_5</th>\n",
       "      <th>feature_6</th>\n",
       "      <th>feature_7</th>\n",
       "      <th>feature_8</th>\n",
       "    </tr>\n",
       "    <tr>\n",
       "      <th>PassengerId</th>\n",
       "      <th></th>\n",
       "      <th></th>\n",
       "      <th></th>\n",
       "      <th></th>\n",
       "      <th></th>\n",
       "      <th></th>\n",
       "      <th></th>\n",
       "      <th></th>\n",
       "      <th></th>\n",
       "    </tr>\n",
       "  </thead>\n",
       "  <tbody>\n",
       "    <tr>\n",
       "      <th>147</th>\n",
       "      <td>Mr</td>\n",
       "      <td>Homme</td>\n",
       "      <td>7.8</td>\n",
       "      <td>Andersson August Edvard (\"Wennerstrom\")</td>\n",
       "      <td>Class type : Third class</td>\n",
       "      <td>SOUTHAMPTON</td>\n",
       "      <td>27.0 yo</td>\n",
       "      <td>0</td>\n",
       "      <td>0</td>\n",
       "    </tr>\n",
       "    <tr>\n",
       "      <th>545</th>\n",
       "      <td>106.42</td>\n",
       "      <td>Mr</td>\n",
       "      <td>Homme</td>\n",
       "      <td>Class type : First class</td>\n",
       "      <td>Douglas Walter Donald</td>\n",
       "      <td>1</td>\n",
       "      <td>CHERBOURG</td>\n",
       "      <td>50.0 yo</td>\n",
       "      <td>0</td>\n",
       "    </tr>\n",
       "    <tr>\n",
       "      <th>701</th>\n",
       "      <td>Mrs</td>\n",
       "      <td>Femme</td>\n",
       "      <td>Class type : First class</td>\n",
       "      <td>227.52</td>\n",
       "      <td>CHERBOURG</td>\n",
       "      <td>Astor John Jacob (Madeleine Talmadge Force)</td>\n",
       "      <td>0</td>\n",
       "      <td>1</td>\n",
       "      <td>18.0 yo</td>\n",
       "    </tr>\n",
       "    <tr>\n",
       "      <th>633</th>\n",
       "      <td>Homme</td>\n",
       "      <td>Class type : First class</td>\n",
       "      <td>Stahelin-Maeglin Max</td>\n",
       "      <td>Dr</td>\n",
       "      <td>30.5</td>\n",
       "      <td>CHERBOURG</td>\n",
       "      <td>32.0 yo</td>\n",
       "      <td>0</td>\n",
       "      <td>0</td>\n",
       "    </tr>\n",
       "    <tr>\n",
       "      <th>886</th>\n",
       "      <td>Class type : Third class</td>\n",
       "      <td>5</td>\n",
       "      <td>Mrs</td>\n",
       "      <td>Femme</td>\n",
       "      <td>39.0 yo</td>\n",
       "      <td>QUEENSTOWN</td>\n",
       "      <td>Rice William (Margaret Norton)</td>\n",
       "      <td>29.12</td>\n",
       "      <td>0</td>\n",
       "    </tr>\n",
       "    <tr>\n",
       "      <th>...</th>\n",
       "      <td>...</td>\n",
       "      <td>...</td>\n",
       "      <td>...</td>\n",
       "      <td>...</td>\n",
       "      <td>...</td>\n",
       "      <td>...</td>\n",
       "      <td>...</td>\n",
       "      <td>...</td>\n",
       "      <td>...</td>\n",
       "    </tr>\n",
       "    <tr>\n",
       "      <th>150</th>\n",
       "      <td>Homme</td>\n",
       "      <td>Byles Thomas Roussel Davids</td>\n",
       "      <td>0</td>\n",
       "      <td>Rev</td>\n",
       "      <td>42.0 yo</td>\n",
       "      <td>SOUTHAMPTON</td>\n",
       "      <td>0</td>\n",
       "      <td>Class type : Second class</td>\n",
       "      <td>13</td>\n",
       "    </tr>\n",
       "    <tr>\n",
       "      <th>839</th>\n",
       "      <td>56.5</td>\n",
       "      <td>Chip Chang</td>\n",
       "      <td>Mr</td>\n",
       "      <td>Homme</td>\n",
       "      <td>32.0 yo</td>\n",
       "      <td>Class type : Third class</td>\n",
       "      <td>SOUTHAMPTON</td>\n",
       "      <td>0</td>\n",
       "      <td>0</td>\n",
       "    </tr>\n",
       "    <tr>\n",
       "      <th>24</th>\n",
       "      <td>Mr</td>\n",
       "      <td>Homme</td>\n",
       "      <td>Sloper William Thompson</td>\n",
       "      <td>35.5</td>\n",
       "      <td>Class type : First class</td>\n",
       "      <td>28.0 yo</td>\n",
       "      <td>0</td>\n",
       "      <td>SOUTHAMPTON</td>\n",
       "      <td>0</td>\n",
       "    </tr>\n",
       "    <tr>\n",
       "      <th>27</th>\n",
       "      <td>Emir Farred Chehab</td>\n",
       "      <td>CHERBOURG</td>\n",
       "      <td>Mr</td>\n",
       "      <td>Homme</td>\n",
       "      <td>29.5 yo</td>\n",
       "      <td>0</td>\n",
       "      <td>Class type : Third class</td>\n",
       "      <td>7.22</td>\n",
       "      <td>0</td>\n",
       "    </tr>\n",
       "    <tr>\n",
       "      <th>105</th>\n",
       "      <td>Mr</td>\n",
       "      <td>Homme</td>\n",
       "      <td>Gustafsson Anders Vilhelm</td>\n",
       "      <td>Class type : Third class</td>\n",
       "      <td>SOUTHAMPTON</td>\n",
       "      <td>37.0 yo</td>\n",
       "      <td>7.92</td>\n",
       "      <td>2</td>\n",
       "      <td>0</td>\n",
       "    </tr>\n",
       "  </tbody>\n",
       "</table>\n",
       "<p>179 rows × 9 columns</p>\n",
       "</div>"
      ],
      "text/plain": [
       "                            feature_0                    feature_1  \\\n",
       "PassengerId                                                          \n",
       "147                                Mr                        Homme   \n",
       "545                            106.42                           Mr   \n",
       "701                               Mrs                        Femme   \n",
       "633                             Homme     Class type : First class   \n",
       "886          Class type : Third class                            5   \n",
       "...                               ...                          ...   \n",
       "150                             Homme  Byles Thomas Roussel Davids   \n",
       "839                              56.5                   Chip Chang   \n",
       "24                                 Mr                        Homme   \n",
       "27                 Emir Farred Chehab                    CHERBOURG   \n",
       "105                                Mr                        Homme   \n",
       "\n",
       "                             feature_2  \\\n",
       "PassengerId                              \n",
       "147                                7.8   \n",
       "545                              Homme   \n",
       "701           Class type : First class   \n",
       "633               Stahelin-Maeglin Max   \n",
       "886                                Mrs   \n",
       "...                                ...   \n",
       "150                                  0   \n",
       "839                                 Mr   \n",
       "24             Sloper William Thompson   \n",
       "27                                  Mr   \n",
       "105          Gustafsson Anders Vilhelm   \n",
       "\n",
       "                                           feature_3  \\\n",
       "PassengerId                                            \n",
       "147          Andersson August Edvard (\"Wennerstrom\")   \n",
       "545                         Class type : First class   \n",
       "701                                           227.52   \n",
       "633                                               Dr   \n",
       "886                                            Femme   \n",
       "...                                              ...   \n",
       "150                                              Rev   \n",
       "839                                            Homme   \n",
       "24                                              35.5   \n",
       "27                                             Homme   \n",
       "105                         Class type : Third class   \n",
       "\n",
       "                            feature_4  \\\n",
       "PassengerId                             \n",
       "147          Class type : Third class   \n",
       "545             Douglas Walter Donald   \n",
       "701                         CHERBOURG   \n",
       "633                              30.5   \n",
       "886                           39.0 yo   \n",
       "...                               ...   \n",
       "150                           42.0 yo   \n",
       "839                           32.0 yo   \n",
       "24           Class type : First class   \n",
       "27                            29.5 yo   \n",
       "105                       SOUTHAMPTON   \n",
       "\n",
       "                                               feature_5  \\\n",
       "PassengerId                                                \n",
       "147                                          SOUTHAMPTON   \n",
       "545                                                    1   \n",
       "701          Astor John Jacob (Madeleine Talmadge Force)   \n",
       "633                                            CHERBOURG   \n",
       "886                                           QUEENSTOWN   \n",
       "...                                                  ...   \n",
       "150                                          SOUTHAMPTON   \n",
       "839                             Class type : Third class   \n",
       "24                                               28.0 yo   \n",
       "27                                                     0   \n",
       "105                                              37.0 yo   \n",
       "\n",
       "                                  feature_6                  feature_7  \\\n",
       "PassengerId                                                              \n",
       "147                                 27.0 yo                          0   \n",
       "545                               CHERBOURG                    50.0 yo   \n",
       "701                                       0                          1   \n",
       "633                                 32.0 yo                          0   \n",
       "886          Rice William (Margaret Norton)                      29.12   \n",
       "...                                     ...                        ...   \n",
       "150                                       0  Class type : Second class   \n",
       "839                             SOUTHAMPTON                          0   \n",
       "24                                        0                SOUTHAMPTON   \n",
       "27                 Class type : Third class                       7.22   \n",
       "105                                    7.92                          2   \n",
       "\n",
       "            feature_8  \n",
       "PassengerId            \n",
       "147                 0  \n",
       "545                 0  \n",
       "701           18.0 yo  \n",
       "633                 0  \n",
       "886                 0  \n",
       "...               ...  \n",
       "150                13  \n",
       "839                 0  \n",
       "24                  0  \n",
       "27                  0  \n",
       "105                 0  \n",
       "\n",
       "[179 rows x 9 columns]"
      ]
     },
     "execution_count": 17,
     "metadata": {},
     "output_type": "execute_result"
    }
   ],
   "source": [
    "xpl.data['x_sorted'][0]"
   ]
  },
  {
   "cell_type": "code",
   "execution_count": 18,
   "metadata": {},
   "outputs": [
    {
     "data": {
      "application/vnd.plotly.v1+json": {
       "config": {
        "plotlyServerURL": "https://plot.ly"
       },
       "data": [
        {
         "hoverinfo": "text",
         "hovertext": [
          "Id: <b>147</b><br /><b>Relatives like children or parents</b> <br />Contribution: -0.0003 <br />Value: 0",
          "Id: <b>147</b><br /><b>Age</b> <br />Contribution: -0.0155 <br />Value: 27.0 yo",
          "Id: <b>147</b><br /><b>Relatives such as brother or wife</b> <br />Contribution: 0.0101 <br />Value: 0",
          "Id: <b>147</b><br /><b>Port of embarkation</b> <br />Contribution: -0.0172 <br />Value: SOUTHAMPTON",
          "Id: <b>147</b><br /><b>Name, First name</b> <br />Contribution: -0.0330 <br />Value: Andersson August Edvard (\"Wennerstrom\")",
          "Id: <b>147</b><br /><b>Ticket class</b> <br />Contribution: -0.0267 <br />Value: Class type : Third class",
          "Id: <b>147</b><br /><b>Passenger fare</b> <br />Contribution: -0.0448 <br />Value: 7.8",
          "Id: <b>147</b><br /><b>Sex</b> <br />Contribution: -0.0785 <br />Value: Homme",
          "Id: <b>147</b><br /><b>Title of passenger</b> <br />Contribution: -0.1195 <br />Value: Mr"
         ],
         "marker": {
          "color": "rgba(244, 192, 0, 1.0)"
         },
         "mode": "lines+markers",
         "name": "Id: <b>147</b>",
         "showlegend": true,
         "type": "scatter",
         "x": [
          -0.000347657147236608,
          -0.015539601607370942,
          0.010078016824962616,
          -0.017171957689754973,
          -0.033029735339369114,
          -0.02672083950276168,
          -0.04483040039422255,
          -0.0785343206457332,
          -0.11952148202660305
         ],
         "y": [
          "<b>Relatives like children or parents</b>",
          "<b>Age</b>",
          "<b>Relatives such as brother or wife</b>",
          "<b>Port of embarkation</b>",
          "<b>Name, First name</b>",
          "<b>Ticket class</b>",
          "<b>Passenger fare</b>",
          "<b>Sex</b>",
          "<b>Title of passenger</b>"
         ]
        },
        {
         "hoverinfo": "text",
         "hovertext": [
          "Id: <b>545</b><br /><b>Relatives like children or parents</b> <br />Contribution: 0.0025 <br />Value: 0",
          "Id: <b>545</b><br /><b>Age</b> <br />Contribution: -0.0122 <br />Value: 50.0 yo",
          "Id: <b>545</b><br /><b>Relatives such as brother or wife</b> <br />Contribution: 0.0508 <br />Value: 1",
          "Id: <b>545</b><br /><b>Port of embarkation</b> <br />Contribution: 0.0301 <br />Value: CHERBOURG",
          "Id: <b>545</b><br /><b>Name, First name</b> <br />Contribution: 0.0583 <br />Value: Douglas Walter Donald",
          "Id: <b>545</b><br /><b>Ticket class</b> <br />Contribution: 0.0816 <br />Value: Class type : First class",
          "Id: <b>545</b><br /><b>Passenger fare</b> <br />Contribution: 0.1438 <br />Value: 106.42",
          "Id: <b>545</b><br /><b>Sex</b> <br />Contribution: -0.0921 <br />Value: Homme",
          "Id: <b>545</b><br /><b>Title of passenger</b> <br />Contribution: -0.1284 <br />Value: Mr"
         ],
         "marker": {
          "color": "rgba(74, 99, 138, 0.7)"
         },
         "mode": "lines+markers",
         "name": "Id: <b>545</b>",
         "showlegend": true,
         "type": "scatter",
         "x": [
          0.0025320610851832124,
          -0.01216929372869422,
          0.050783807312721085,
          0.03005982711958114,
          0.058348262930840014,
          0.08158000418476662,
          0.14381231960785873,
          -0.09213136372240782,
          -0.12843360231793935
         ],
         "y": [
          "<b>Relatives like children or parents</b>",
          "<b>Age</b>",
          "<b>Relatives such as brother or wife</b>",
          "<b>Port of embarkation</b>",
          "<b>Name, First name</b>",
          "<b>Ticket class</b>",
          "<b>Passenger fare</b>",
          "<b>Sex</b>",
          "<b>Title of passenger</b>"
         ]
        },
        {
         "hoverinfo": "text",
         "hovertext": [
          "Id: <b>701</b><br /><b>Relatives like children or parents</b> <br />Contribution: 0.0065 <br />Value: 0",
          "Id: <b>701</b><br /><b>Age</b> <br />Contribution: -0.0032 <br />Value: 18.0 yo",
          "Id: <b>701</b><br /><b>Relatives such as brother or wife</b> <br />Contribution: 0.0054 <br />Value: 1",
          "Id: <b>701</b><br /><b>Port of embarkation</b> <br />Contribution: 0.0184 <br />Value: CHERBOURG",
          "Id: <b>701</b><br /><b>Name, First name</b> <br />Contribution: 0.0093 <br />Value: Astor John Jacob (Madeleine Talmadge Force)",
          "Id: <b>701</b><br /><b>Ticket class</b> <br />Contribution: 0.1282 <br />Value: Class type : First class",
          "Id: <b>701</b><br /><b>Passenger fare</b> <br />Contribution: 0.0874 <br />Value: 227.52",
          "Id: <b>701</b><br /><b>Sex</b> <br />Contribution: 0.1487 <br />Value: Femme",
          "Id: <b>701</b><br /><b>Title of passenger</b> <br />Contribution: 0.1936 <br />Value: Mrs"
         ],
         "marker": {
          "color": "rgba(113, 101, 59, 1.0)"
         },
         "mode": "lines+markers",
         "name": "Id: <b>701</b>",
         "showlegend": true,
         "type": "scatter",
         "x": [
          0.006493945811609757,
          -0.0031726256502975867,
          0.005365942734211219,
          0.018443924805050294,
          0.009345151844896179,
          0.1281784907645348,
          0.08742066074042239,
          0.14867930016529812,
          0.19362723125618547
         ],
         "y": [
          "<b>Relatives like children or parents</b>",
          "<b>Age</b>",
          "<b>Relatives such as brother or wife</b>",
          "<b>Port of embarkation</b>",
          "<b>Name, First name</b>",
          "<b>Ticket class</b>",
          "<b>Passenger fare</b>",
          "<b>Sex</b>",
          "<b>Title of passenger</b>"
         ]
        }
       ],
       "layout": {
        "height": 550,
        "hovermode": "closest",
        "legend": {
         "x": 1,
         "y": 1
        },
        "margin": {
         "b": 70,
         "l": 150,
         "r": 20,
         "t": 110
        },
        "template": {
         "data": {
          "scatter": [
           {
            "type": "scatter"
           }
          ]
         }
        },
        "title": {
         "font": {
          "color": "rgb(50, 50, 50)",
          "family": "Arial",
          "size": 24
         },
         "text": "Compare plot - index : <b>147</b> ; <b>545</b> ; <b>701</b><span style='font-size: 12px;'><br />Response: <b>1</b> - Probas: 147: <b>0.07</b> ; 545: <b>0.53</b> ; 701: <b>0.99</b></span>",
         "x": 0.5,
         "xanchor": "center",
         "y": 0.9,
         "yanchor": "middle"
        },
        "width": 900,
        "xaxis": {
         "automargin": true,
         "title": {
          "font": {
           "color": "rgb(50, 50, 50)",
           "family": "Arial Black",
           "size": 16
          },
          "text": "Contributions"
         }
        },
        "yaxis": {
         "automargin": true,
         "title": {
          "font": {
           "color": "rgb(50, 50, 50)",
           "family": "Arial Black",
           "size": 16
          }
         },
         "type": "category"
        }
       }
      },
      "text/html": [
       "<div>\n",
       "        \n",
       "        \n",
       "            <div id=\"47bf8a87-7316-4314-9c10-6acca1218bcd\" class=\"plotly-graph-div\" style=\"height:550px; width:900px;\"></div>\n",
       "            <script type=\"text/javascript\">\n",
       "                require([\"plotly\"], function(Plotly) {\n",
       "                    window.PLOTLYENV=window.PLOTLYENV || {};\n",
       "                    \n",
       "                if (document.getElementById(\"47bf8a87-7316-4314-9c10-6acca1218bcd\")) {\n",
       "                    Plotly.newPlot(\n",
       "                        '47bf8a87-7316-4314-9c10-6acca1218bcd',\n",
       "                        [{\"hoverinfo\": \"text\", \"hovertext\": [\"Id: <b>147</b><br /><b>Relatives like children or parents</b> <br />Contribution: -0.0003 <br />Value: 0\", \"Id: <b>147</b><br /><b>Age</b> <br />Contribution: -0.0155 <br />Value: 27.0 yo\", \"Id: <b>147</b><br /><b>Relatives such as brother or wife</b> <br />Contribution: 0.0101 <br />Value: 0\", \"Id: <b>147</b><br /><b>Port of embarkation</b> <br />Contribution: -0.0172 <br />Value: SOUTHAMPTON\", \"Id: <b>147</b><br /><b>Name, First name</b> <br />Contribution: -0.0330 <br />Value: Andersson August Edvard (\\\"Wennerstrom\\\")\", \"Id: <b>147</b><br /><b>Ticket class</b> <br />Contribution: -0.0267 <br />Value: Class type : Third class\", \"Id: <b>147</b><br /><b>Passenger fare</b> <br />Contribution: -0.0448 <br />Value: 7.8\", \"Id: <b>147</b><br /><b>Sex</b> <br />Contribution: -0.0785 <br />Value: Homme\", \"Id: <b>147</b><br /><b>Title of passenger</b> <br />Contribution: -0.1195 <br />Value: Mr\"], \"marker\": {\"color\": \"rgba(244, 192, 0, 1.0)\"}, \"mode\": \"lines+markers\", \"name\": \"Id: <b>147</b>\", \"showlegend\": true, \"type\": \"scatter\", \"x\": [-0.000347657147236608, -0.015539601607370942, 0.010078016824962616, -0.017171957689754973, -0.033029735339369114, -0.02672083950276168, -0.04483040039422255, -0.0785343206457332, -0.11952148202660305], \"y\": [\"<b>Relatives like children or parents</b>\", \"<b>Age</b>\", \"<b>Relatives such as brother or wife</b>\", \"<b>Port of embarkation</b>\", \"<b>Name, First name</b>\", \"<b>Ticket class</b>\", \"<b>Passenger fare</b>\", \"<b>Sex</b>\", \"<b>Title of passenger</b>\"]}, {\"hoverinfo\": \"text\", \"hovertext\": [\"Id: <b>545</b><br /><b>Relatives like children or parents</b> <br />Contribution: 0.0025 <br />Value: 0\", \"Id: <b>545</b><br /><b>Age</b> <br />Contribution: -0.0122 <br />Value: 50.0 yo\", \"Id: <b>545</b><br /><b>Relatives such as brother or wife</b> <br />Contribution: 0.0508 <br />Value: 1\", \"Id: <b>545</b><br /><b>Port of embarkation</b> <br />Contribution: 0.0301 <br />Value: CHERBOURG\", \"Id: <b>545</b><br /><b>Name, First name</b> <br />Contribution: 0.0583 <br />Value: Douglas Walter Donald\", \"Id: <b>545</b><br /><b>Ticket class</b> <br />Contribution: 0.0816 <br />Value: Class type : First class\", \"Id: <b>545</b><br /><b>Passenger fare</b> <br />Contribution: 0.1438 <br />Value: 106.42\", \"Id: <b>545</b><br /><b>Sex</b> <br />Contribution: -0.0921 <br />Value: Homme\", \"Id: <b>545</b><br /><b>Title of passenger</b> <br />Contribution: -0.1284 <br />Value: Mr\"], \"marker\": {\"color\": \"rgba(74, 99, 138, 0.7)\"}, \"mode\": \"lines+markers\", \"name\": \"Id: <b>545</b>\", \"showlegend\": true, \"type\": \"scatter\", \"x\": [0.0025320610851832124, -0.01216929372869422, 0.050783807312721085, 0.03005982711958114, 0.058348262930840014, 0.08158000418476662, 0.14381231960785873, -0.09213136372240782, -0.12843360231793935], \"y\": [\"<b>Relatives like children or parents</b>\", \"<b>Age</b>\", \"<b>Relatives such as brother or wife</b>\", \"<b>Port of embarkation</b>\", \"<b>Name, First name</b>\", \"<b>Ticket class</b>\", \"<b>Passenger fare</b>\", \"<b>Sex</b>\", \"<b>Title of passenger</b>\"]}, {\"hoverinfo\": \"text\", \"hovertext\": [\"Id: <b>701</b><br /><b>Relatives like children or parents</b> <br />Contribution: 0.0065 <br />Value: 0\", \"Id: <b>701</b><br /><b>Age</b> <br />Contribution: -0.0032 <br />Value: 18.0 yo\", \"Id: <b>701</b><br /><b>Relatives such as brother or wife</b> <br />Contribution: 0.0054 <br />Value: 1\", \"Id: <b>701</b><br /><b>Port of embarkation</b> <br />Contribution: 0.0184 <br />Value: CHERBOURG\", \"Id: <b>701</b><br /><b>Name, First name</b> <br />Contribution: 0.0093 <br />Value: Astor John Jacob (Madeleine Talmadge Force)\", \"Id: <b>701</b><br /><b>Ticket class</b> <br />Contribution: 0.1282 <br />Value: Class type : First class\", \"Id: <b>701</b><br /><b>Passenger fare</b> <br />Contribution: 0.0874 <br />Value: 227.52\", \"Id: <b>701</b><br /><b>Sex</b> <br />Contribution: 0.1487 <br />Value: Femme\", \"Id: <b>701</b><br /><b>Title of passenger</b> <br />Contribution: 0.1936 <br />Value: Mrs\"], \"marker\": {\"color\": \"rgba(113, 101, 59, 1.0)\"}, \"mode\": \"lines+markers\", \"name\": \"Id: <b>701</b>\", \"showlegend\": true, \"type\": \"scatter\", \"x\": [0.006493945811609757, -0.0031726256502975867, 0.005365942734211219, 0.018443924805050294, 0.009345151844896179, 0.1281784907645348, 0.08742066074042239, 0.14867930016529812, 0.19362723125618547], \"y\": [\"<b>Relatives like children or parents</b>\", \"<b>Age</b>\", \"<b>Relatives such as brother or wife</b>\", \"<b>Port of embarkation</b>\", \"<b>Name, First name</b>\", \"<b>Ticket class</b>\", \"<b>Passenger fare</b>\", \"<b>Sex</b>\", \"<b>Title of passenger</b>\"]}],\n",
       "                        {\"height\": 550, \"hovermode\": \"closest\", \"legend\": {\"x\": 1, \"y\": 1}, \"margin\": {\"b\": 70, \"l\": 150, \"r\": 20, \"t\": 110.0}, \"template\": {\"data\": {\"scatter\": [{\"type\": \"scatter\"}]}}, \"title\": {\"font\": {\"color\": \"rgb(50, 50, 50)\", \"family\": \"Arial\", \"size\": 24}, \"text\": \"Compare plot - index : <b>147</b> ; <b>545</b> ; <b>701</b><span style='font-size: 12px;'><br />Response: <b>1</b> - Probas: 147: <b>0.07</b> ; 545: <b>0.53</b> ; 701: <b>0.99</b></span>\", \"x\": 0.5, \"xanchor\": \"center\", \"y\": 0.9, \"yanchor\": \"middle\"}, \"width\": 900, \"xaxis\": {\"automargin\": true, \"title\": {\"font\": {\"color\": \"rgb(50, 50, 50)\", \"family\": \"Arial Black\", \"size\": 16}, \"text\": \"Contributions\"}}, \"yaxis\": {\"automargin\": true, \"title\": {\"font\": {\"color\": \"rgb(50, 50, 50)\", \"family\": \"Arial Black\", \"size\": 16}}, \"type\": \"category\"}},\n",
       "                        {\"responsive\": true}\n",
       "                    ).then(function(){\n",
       "                            \n",
       "var gd = document.getElementById('47bf8a87-7316-4314-9c10-6acca1218bcd');\n",
       "var x = new MutationObserver(function (mutations, observer) {{\n",
       "        var display = window.getComputedStyle(gd).display;\n",
       "        if (!display || display === 'none') {{\n",
       "            console.log([gd, 'removed!']);\n",
       "            Plotly.purge(gd);\n",
       "            observer.disconnect();\n",
       "        }}\n",
       "}});\n",
       "\n",
       "// Listen for the removal of the full notebook cells\n",
       "var notebookContainer = gd.closest('#notebook-container');\n",
       "if (notebookContainer) {{\n",
       "    x.observe(notebookContainer, {childList: true});\n",
       "}}\n",
       "\n",
       "// Listen for the clearing of the current output cell\n",
       "var outputEl = gd.closest('.output');\n",
       "if (outputEl) {{\n",
       "    x.observe(outputEl, {childList: true});\n",
       "}}\n",
       "\n",
       "                        })\n",
       "                };\n",
       "                });\n",
       "            </script>\n",
       "        </div>"
      ]
     },
     "metadata": {},
     "output_type": "display_data"
    }
   ],
   "source": [
    "xpl.plot.compare_plot(row_num=[0, 1, 2])"
   ]
  },
  {
   "cell_type": "code",
   "execution_count": 19,
   "metadata": {},
   "outputs": [
    {
     "data": {
      "application/vnd.plotly.v1+json": {
       "config": {
        "plotlyServerURL": "https://plot.ly"
       },
       "data": [
        {
         "customdata": [
          147,
          545,
          701,
          633,
          886,
          805,
          254,
          859,
          219,
          880,
          29,
          838,
          312,
          640,
          697,
          720,
          483,
          882,
          385,
          58,
          228,
          356,
          275,
          106,
          881,
          268,
          811,
          669,
          715,
          644,
          303,
          121,
          511,
          226,
          18,
          93,
          746,
          90,
          585,
          434,
          589,
          621,
          758,
          462,
          380,
          203,
          801,
          837,
          87,
          876,
          497,
          584,
          336,
          509,
          77,
          337,
          35,
          357,
          99,
          465,
          864,
          394,
          94,
          787,
          574,
          31,
          447,
          112,
          532,
          177,
          659,
          28,
          205,
          733,
          293,
          809,
          820,
          601,
          508,
          466,
          67,
          343,
          425,
          389,
          415,
          183,
          68,
          342,
          653,
          184,
          152,
          872,
          119,
          351,
          224,
          283,
          860,
          712,
          817,
          834,
          377,
          513,
          499,
          407,
          257,
          83,
          870,
          182,
          481,
          755,
          685,
          249,
          352,
          847,
          729,
          334,
          431,
          40,
          571,
          587,
          630,
          238,
          887,
          738,
          206,
          264,
          173,
          200,
          281,
          487,
          142,
          146,
          740,
          565,
          770,
          702,
          569,
          149,
          125,
          597,
          875,
          299,
          814,
          129,
          6,
          294,
          851,
          333,
          59,
          34,
          826,
          131,
          144,
          772,
          313,
          778,
          306,
          606,
          229,
          243,
          104,
          756,
          844,
          848,
          479,
          291,
          554,
          460,
          850,
          464,
          854,
          647,
          471,
          819,
          150,
          839,
          24,
          27,
          105
         ],
         "hovertemplate": "<b>%{hovertext}</b><br />Age : %{x}<br />Contribution: %{y:.4f}<extra></extra>",
         "hovertext": [
          "Id: 147<br />",
          "Id: 545<br />",
          "Id: 701<br />",
          "Id: 633<br />",
          "Id: 886<br />",
          "Id: 805<br />",
          "Id: 254<br />",
          "Id: 859<br />",
          "Id: 219<br />",
          "Id: 880<br />",
          "Id: 29<br />",
          "Id: 838<br />",
          "Id: 312<br />",
          "Id: 640<br />",
          "Id: 697<br />",
          "Id: 720<br />",
          "Id: 483<br />",
          "Id: 882<br />",
          "Id: 385<br />",
          "Id: 58<br />",
          "Id: 228<br />",
          "Id: 356<br />",
          "Id: 275<br />",
          "Id: 106<br />",
          "Id: 881<br />",
          "Id: 268<br />",
          "Id: 811<br />",
          "Id: 669<br />",
          "Id: 715<br />",
          "Id: 644<br />",
          "Id: 303<br />",
          "Id: 121<br />",
          "Id: 511<br />",
          "Id: 226<br />",
          "Id: 18<br />",
          "Id: 93<br />",
          "Id: 746<br />",
          "Id: 90<br />",
          "Id: 585<br />",
          "Id: 434<br />",
          "Id: 589<br />",
          "Id: 621<br />",
          "Id: 758<br />",
          "Id: 462<br />",
          "Id: 380<br />",
          "Id: 203<br />",
          "Id: 801<br />",
          "Id: 837<br />",
          "Id: 87<br />",
          "Id: 876<br />",
          "Id: 497<br />",
          "Id: 584<br />",
          "Id: 336<br />",
          "Id: 509<br />",
          "Id: 77<br />",
          "Id: 337<br />",
          "Id: 35<br />",
          "Id: 357<br />",
          "Id: 99<br />",
          "Id: 465<br />",
          "Id: 864<br />",
          "Id: 394<br />",
          "Id: 94<br />",
          "Id: 787<br />",
          "Id: 574<br />",
          "Id: 31<br />",
          "Id: 447<br />",
          "Id: 112<br />",
          "Id: 532<br />",
          "Id: 177<br />",
          "Id: 659<br />",
          "Id: 28<br />",
          "Id: 205<br />",
          "Id: 733<br />",
          "Id: 293<br />",
          "Id: 809<br />",
          "Id: 820<br />",
          "Id: 601<br />",
          "Id: 508<br />",
          "Id: 466<br />",
          "Id: 67<br />",
          "Id: 343<br />",
          "Id: 425<br />",
          "Id: 389<br />",
          "Id: 415<br />",
          "Id: 183<br />",
          "Id: 68<br />",
          "Id: 342<br />",
          "Id: 653<br />",
          "Id: 184<br />",
          "Id: 152<br />",
          "Id: 872<br />",
          "Id: 119<br />",
          "Id: 351<br />",
          "Id: 224<br />",
          "Id: 283<br />",
          "Id: 860<br />",
          "Id: 712<br />",
          "Id: 817<br />",
          "Id: 834<br />",
          "Id: 377<br />",
          "Id: 513<br />",
          "Id: 499<br />",
          "Id: 407<br />",
          "Id: 257<br />",
          "Id: 83<br />",
          "Id: 870<br />",
          "Id: 182<br />",
          "Id: 481<br />",
          "Id: 755<br />",
          "Id: 685<br />",
          "Id: 249<br />",
          "Id: 352<br />",
          "Id: 847<br />",
          "Id: 729<br />",
          "Id: 334<br />",
          "Id: 431<br />",
          "Id: 40<br />",
          "Id: 571<br />",
          "Id: 587<br />",
          "Id: 630<br />",
          "Id: 238<br />",
          "Id: 887<br />",
          "Id: 738<br />",
          "Id: 206<br />",
          "Id: 264<br />",
          "Id: 173<br />",
          "Id: 200<br />",
          "Id: 281<br />",
          "Id: 487<br />",
          "Id: 142<br />",
          "Id: 146<br />",
          "Id: 740<br />",
          "Id: 565<br />",
          "Id: 770<br />",
          "Id: 702<br />",
          "Id: 569<br />",
          "Id: 149<br />",
          "Id: 125<br />",
          "Id: 597<br />",
          "Id: 875<br />",
          "Id: 299<br />",
          "Id: 814<br />",
          "Id: 129<br />",
          "Id: 6<br />",
          "Id: 294<br />",
          "Id: 851<br />",
          "Id: 333<br />",
          "Id: 59<br />",
          "Id: 34<br />",
          "Id: 826<br />",
          "Id: 131<br />",
          "Id: 144<br />",
          "Id: 772<br />",
          "Id: 313<br />",
          "Id: 778<br />",
          "Id: 306<br />",
          "Id: 606<br />",
          "Id: 229<br />",
          "Id: 243<br />",
          "Id: 104<br />",
          "Id: 756<br />",
          "Id: 844<br />",
          "Id: 848<br />",
          "Id: 479<br />",
          "Id: 291<br />",
          "Id: 554<br />",
          "Id: 460<br />",
          "Id: 850<br />",
          "Id: 464<br />",
          "Id: 854<br />",
          "Id: 647<br />",
          "Id: 471<br />",
          "Id: 819<br />",
          "Id: 150<br />",
          "Id: 839<br />",
          "Id: 24<br />",
          "Id: 27<br />",
          "Id: 105<br />"
         ],
         "marker": {
          "color": "rgba(117, 152, 189, 0.9)",
          "line": {
           "color": "white",
           "width": 0.8
          },
          "opacity": 0.8,
          "size": 10
         },
         "mode": "markers",
         "type": "scatter",
         "x": [
          "27.0 yo",
          "50.0 yo",
          "18.0 yo",
          "32.0 yo",
          "39.0 yo",
          "27.0 yo",
          "30.0 yo",
          "24.0 yo",
          "32.0 yo",
          "56.0 yo",
          "29.5 yo",
          "29.5 yo",
          "18.0 yo",
          "29.5 yo",
          "44.0 yo",
          "33.0 yo",
          "50.0 yo",
          "33.0 yo",
          "29.5 yo",
          "28.5 yo",
          "20.5 yo",
          "28.0 yo",
          "29.5 yo",
          "28.0 yo",
          "25.0 yo",
          "25.0 yo",
          "26.0 yo",
          "43.0 yo",
          "52.0 yo",
          "29.5 yo",
          "19.0 yo",
          "21.0 yo",
          "29.0 yo",
          "22.0 yo",
          "29.5 yo",
          "46.0 yo",
          "70.0 yo",
          "24.0 yo",
          "29.5 yo",
          "17.0 yo",
          "22.0 yo",
          "27.0 yo",
          "18.0 yo",
          "34.0 yo",
          "19.0 yo",
          "34.0 yo",
          "34.0 yo",
          "21.0 yo",
          "16.0 yo",
          "15.0 yo",
          "54.0 yo",
          "36.0 yo",
          "29.5 yo",
          "28.0 yo",
          "29.5 yo",
          "29.0 yo",
          "28.0 yo",
          "22.0 yo",
          "34.0 yo",
          "29.5 yo",
          "29.5 yo",
          "23.0 yo",
          "26.0 yo",
          "18.0 yo",
          "29.5 yo",
          "40.0 yo",
          "13.0 yo",
          "14.5 yo",
          "29.5 yo",
          "29.5 yo",
          "23.0 yo",
          "19.0 yo",
          "18.0 yo",
          "29.5 yo",
          "36.0 yo",
          "39.0 yo",
          "10.0 yo",
          "24.0 yo",
          "29.5 yo",
          "38.0 yo",
          "29.0 yo",
          "28.0 yo",
          "18.0 yo",
          "29.5 yo",
          "44.0 yo",
          "9.0 yo",
          "19.0 yo",
          "24.0 yo",
          "21.0 yo",
          "1.0 yo",
          "22.0 yo",
          "47.0 yo",
          "24.0 yo",
          "23.0 yo",
          "29.5 yo",
          "16.0 yo",
          "29.5 yo",
          "29.5 yo",
          "23.0 yo",
          "23.0 yo",
          "22.0 yo",
          "36.0 yo",
          "25.0 yo",
          "51.0 yo",
          "29.5 yo",
          "29.5 yo",
          "4.0 yo",
          "29.5 yo",
          "9.0 yo",
          "48.0 yo",
          "60.0 yo",
          "37.0 yo",
          "29.5 yo",
          "29.5 yo",
          "25.0 yo",
          "16.0 yo",
          "28.0 yo",
          "14.0 yo",
          "62.0 yo",
          "47.0 yo",
          "29.5 yo",
          "8.0 yo",
          "27.0 yo",
          "35.0 yo",
          "2.0 yo",
          "40.0 yo",
          "1.0 yo",
          "24.0 yo",
          "65.0 yo",
          "35.0 yo",
          "22.0 yo",
          "19.0 yo",
          "29.5 yo",
          "29.5 yo",
          "32.0 yo",
          "35.0 yo",
          "29.5 yo",
          "36.5 yo",
          "54.0 yo",
          "29.5 yo",
          "28.0 yo",
          "29.5 yo",
          "6.0 yo",
          "29.5 yo",
          "29.5 yo",
          "24.0 yo",
          "4.0 yo",
          "38.0 yo",
          "5.0 yo",
          "66.0 yo",
          "29.5 yo",
          "33.0 yo",
          "19.0 yo",
          "48.0 yo",
          "26.0 yo",
          "5.0 yo",
          "0.92 yo",
          "36.0 yo",
          "18.0 yo",
          "29.0 yo",
          "33.0 yo",
          "0.67 yo",
          "34.5 yo",
          "35.0 yo",
          "22.0 yo",
          "26.0 yo",
          "22.0 yo",
          "29.5 yo",
          "29.5 yo",
          "48.0 yo",
          "16.0 yo",
          "19.0 yo",
          "29.5 yo",
          "43.0 yo",
          "42.0 yo",
          "32.0 yo",
          "28.0 yo",
          "29.5 yo",
          "37.0 yo"
         ],
         "y": [
          -0.015539601607370942,
          -0.01216929372869422,
          -0.0031726256502975867,
          -0.014167525910006244,
          -0.054979966713803854,
          0.03584351774662095,
          0.017869776456325412,
          0.022904487571165342,
          0.011767947337542306,
          -0.05075286297064818,
          0.012023883975707072,
          -0.013243490371803586,
          0.0001423288065111889,
          -0.03095537302609345,
          -0.007973043919824752,
          0.02318681843392064,
          0.05430622647126253,
          0.00518667862683904,
          -0.047479072511010766,
          0.03430909128678035,
          0.030785507656950366,
          -0.04171300889465472,
          -0.03408151663715303,
          -0.0007003887376334354,
          0.009504410460551288,
          -0.019330892159394496,
          0.0006836094371677222,
          -0.020178090812439577,
          -0.029514415099850498,
          -0.0061762660236219175,
          0.08487279043935529,
          -0.021238270028675597,
          0.023356259833338486,
          -0.04527590340215458,
          -0.004544179691805822,
          -0.03125567012629253,
          -0.06904014277235987,
          -0.015205395719238497,
          -0.03422521729974043,
          0.006020913122751773,
          -0.033146553507125746,
          0.03235506560819423,
          -0.00960173474703198,
          0.03243113248174249,
          0.03416270265389807,
          -0.01813233469454573,
          0.0034320462672320358,
          -0.04360248813945148,
          0.035845128239397464,
          0.06936450620130251,
          -0.04031601994786506,
          0.03899500555402799,
          -0.042840607503800074,
          -0.008399331261465921,
          -0.01485269256238662,
          -0.007393553129099595,
          0.017218555243428944,
          0.003114357644266509,
          0.017214753644985942,
          -0.04506579841401921,
          -0.017467416804352133,
          0.004567189019131522,
          0.021627603011260058,
          -0.01038702411920059,
          -0.0024641325182481696,
          0.0010055599767964502,
          0.03893233909332843,
          0.07962342208285209,
          -0.036932969932691705,
          -0.010286097002357568,
          -0.05519560368640688,
          -0.004270942888261378,
          0.08948410715865074,
          -0.02551916792680481,
          -0.0033159022986473954,
          -0.032128407025478714,
          0.039013833067142414,
          0.006985583560906671,
          0.01737773931934375,
          -0.017651132153165685,
          0.013798203818942215,
          -0.048362884164949,
          0.0008565640108995382,
          -0.03204281714779956,
          0.09384732952765484,
          0.06274459952047884,
          0.061408249611198874,
          0.011097816148802925,
          -0.020842960374282807,
          0.14506815712888266,
          -0.0018874097702731491,
          -0.012798449884088384,
          0.019713527812640446,
          -0.06591999092478662,
          -0.03330132607710119,
          0.060767319788137084,
          -0.023858714550135524,
          0.027841981662828745,
          -0.0013748606174889143,
          -0.03436073841261856,
          0.02143267651193168,
          0.07409225382561924,
          0.01778791033749476,
          0.018253333743787625,
          -0.005934640064412415,
          0.013072985861112928,
          0.17023171941786755,
          -0.01942818110623069,
          0.05218619119810415,
          -0.017896964593110777,
          -0.05544572597306605,
          0.008691991118007898,
          -0.012976496053581312,
          -0.01759154111449836,
          -0.026039858874686284,
          0.03223769278510749,
          0.027144769226310345,
          0.04728674363194147,
          -0.05510675610821384,
          -0.014339450410900739,
          -0.024319446626869752,
          0.04025979387702173,
          -0.01732405095816909,
          0.036871823940347624,
          0.15918423564043027,
          -0.005110527424223686,
          0.15432686243807162,
          0.01290381084635872,
          -0.05379351344869717,
          0.01905372025586212,
          0.03448434579915789,
          0.016518011852771013,
          -0.03148252870245887,
          -0.04770037727619123,
          0.07411879883526913,
          0.05752341927789627,
          -0.03796934494261545,
          -0.021977383728226517,
          -0.07303704342478054,
          0.004362796216544855,
          0.01783775141478542,
          -0.03279126248337163,
          0.10133672071516667,
          -0.004225701074489341,
          0.003157575410088921,
          -0.012267678649385974,
          0.1029035042045454,
          0.03878003664822756,
          0.077913042063619,
          -0.0709544828565329,
          0.011189667312655985,
          -0.03772441106175813,
          0.04658919774391104,
          0.03400928556810674,
          0.011026135869937169,
          0.1695602414928414,
          0.06484874841788892,
          -0.029340215897796985,
          0.028519780315676337,
          -0.016095483908179827,
          0.005300475762231385,
          0.16969943644715305,
          -0.04474380583319885,
          -0.058644189341097074,
          -0.021398345269370508,
          0.01871927962368119,
          0.006635295144180709,
          -0.025324292912734827,
          -0.003755875739068355,
          0.05241006293375761,
          0.011180153258292823,
          0.015146069760039073,
          -0.026369820794095142,
          -0.043018972313131766,
          -0.011521538177940374,
          0.05100524431804991,
          0.03314419692009787,
          0.02856088785849545,
          -0.01659729652218619
         ]
        }
       ],
       "layout": {
        "height": 600,
        "hovermode": "closest",
        "template": {
         "data": {
          "scatter": [
           {
            "type": "scatter"
           }
          ]
         }
        },
        "title": {
         "font": {
          "color": "rgb(50, 50, 50)",
          "family": "Arial",
          "size": 24
         },
         "text": "<b>Age</b> - Feature Contribution<span style='font-size: 12px;'><br />Response: <b>1</b></span>",
         "x": 0.5,
         "xanchor": "center",
         "y": 0.9,
         "yanchor": "middle"
        },
        "width": 900,
        "xaxis": {
         "automargin": true,
         "title": {
          "font": {
           "color": "rgb(50, 50, 50)",
           "family": "Arial Black",
           "size": 16
          },
          "text": "Age"
         }
        },
        "yaxis": {
         "automargin": true,
         "title": {
          "font": {
           "color": "rgb(50, 50, 50)",
           "family": "Arial Black",
           "size": 16
          },
          "text": "Contribution"
         }
        }
       }
      },
      "text/html": [
       "<div>\n",
       "        \n",
       "        \n",
       "            <div id=\"0c622625-e4f1-40e7-9bcf-9297ee72bd62\" class=\"plotly-graph-div\" style=\"height:600px; width:900px;\"></div>\n",
       "            <script type=\"text/javascript\">\n",
       "                require([\"plotly\"], function(Plotly) {\n",
       "                    window.PLOTLYENV=window.PLOTLYENV || {};\n",
       "                    \n",
       "                if (document.getElementById(\"0c622625-e4f1-40e7-9bcf-9297ee72bd62\")) {\n",
       "                    Plotly.newPlot(\n",
       "                        '0c622625-e4f1-40e7-9bcf-9297ee72bd62',\n",
       "                        [{\"customdata\": [147, 545, 701, 633, 886, 805, 254, 859, 219, 880, 29, 838, 312, 640, 697, 720, 483, 882, 385, 58, 228, 356, 275, 106, 881, 268, 811, 669, 715, 644, 303, 121, 511, 226, 18, 93, 746, 90, 585, 434, 589, 621, 758, 462, 380, 203, 801, 837, 87, 876, 497, 584, 336, 509, 77, 337, 35, 357, 99, 465, 864, 394, 94, 787, 574, 31, 447, 112, 532, 177, 659, 28, 205, 733, 293, 809, 820, 601, 508, 466, 67, 343, 425, 389, 415, 183, 68, 342, 653, 184, 152, 872, 119, 351, 224, 283, 860, 712, 817, 834, 377, 513, 499, 407, 257, 83, 870, 182, 481, 755, 685, 249, 352, 847, 729, 334, 431, 40, 571, 587, 630, 238, 887, 738, 206, 264, 173, 200, 281, 487, 142, 146, 740, 565, 770, 702, 569, 149, 125, 597, 875, 299, 814, 129, 6, 294, 851, 333, 59, 34, 826, 131, 144, 772, 313, 778, 306, 606, 229, 243, 104, 756, 844, 848, 479, 291, 554, 460, 850, 464, 854, 647, 471, 819, 150, 839, 24, 27, 105], \"hovertemplate\": \"<b>%{hovertext}</b><br />Age : %{x}<br />Contribution: %{y:.4f}<extra></extra>\", \"hovertext\": [\"Id: 147<br />\", \"Id: 545<br />\", \"Id: 701<br />\", \"Id: 633<br />\", \"Id: 886<br />\", \"Id: 805<br />\", \"Id: 254<br />\", \"Id: 859<br />\", \"Id: 219<br />\", \"Id: 880<br />\", \"Id: 29<br />\", \"Id: 838<br />\", \"Id: 312<br />\", \"Id: 640<br />\", \"Id: 697<br />\", \"Id: 720<br />\", \"Id: 483<br />\", \"Id: 882<br />\", \"Id: 385<br />\", \"Id: 58<br />\", \"Id: 228<br />\", \"Id: 356<br />\", \"Id: 275<br />\", \"Id: 106<br />\", \"Id: 881<br />\", \"Id: 268<br />\", \"Id: 811<br />\", \"Id: 669<br />\", \"Id: 715<br />\", \"Id: 644<br />\", \"Id: 303<br />\", \"Id: 121<br />\", \"Id: 511<br />\", \"Id: 226<br />\", \"Id: 18<br />\", \"Id: 93<br />\", \"Id: 746<br />\", \"Id: 90<br />\", \"Id: 585<br />\", \"Id: 434<br />\", \"Id: 589<br />\", \"Id: 621<br />\", \"Id: 758<br />\", \"Id: 462<br />\", \"Id: 380<br />\", \"Id: 203<br />\", \"Id: 801<br />\", \"Id: 837<br />\", \"Id: 87<br />\", \"Id: 876<br />\", \"Id: 497<br />\", \"Id: 584<br />\", \"Id: 336<br />\", \"Id: 509<br />\", \"Id: 77<br />\", \"Id: 337<br />\", \"Id: 35<br />\", \"Id: 357<br />\", \"Id: 99<br />\", \"Id: 465<br />\", \"Id: 864<br />\", \"Id: 394<br />\", \"Id: 94<br />\", \"Id: 787<br />\", \"Id: 574<br />\", \"Id: 31<br />\", \"Id: 447<br />\", \"Id: 112<br />\", \"Id: 532<br />\", \"Id: 177<br />\", \"Id: 659<br />\", \"Id: 28<br />\", \"Id: 205<br />\", \"Id: 733<br />\", \"Id: 293<br />\", \"Id: 809<br />\", \"Id: 820<br />\", \"Id: 601<br />\", \"Id: 508<br />\", \"Id: 466<br />\", \"Id: 67<br />\", \"Id: 343<br />\", \"Id: 425<br />\", \"Id: 389<br />\", \"Id: 415<br />\", \"Id: 183<br />\", \"Id: 68<br />\", \"Id: 342<br />\", \"Id: 653<br />\", \"Id: 184<br />\", \"Id: 152<br />\", \"Id: 872<br />\", \"Id: 119<br />\", \"Id: 351<br />\", \"Id: 224<br />\", \"Id: 283<br />\", \"Id: 860<br />\", \"Id: 712<br />\", \"Id: 817<br />\", \"Id: 834<br />\", \"Id: 377<br />\", \"Id: 513<br />\", \"Id: 499<br />\", \"Id: 407<br />\", \"Id: 257<br />\", \"Id: 83<br />\", \"Id: 870<br />\", \"Id: 182<br />\", \"Id: 481<br />\", \"Id: 755<br />\", \"Id: 685<br />\", \"Id: 249<br />\", \"Id: 352<br />\", \"Id: 847<br />\", \"Id: 729<br />\", \"Id: 334<br />\", \"Id: 431<br />\", \"Id: 40<br />\", \"Id: 571<br />\", \"Id: 587<br />\", \"Id: 630<br />\", \"Id: 238<br />\", \"Id: 887<br />\", \"Id: 738<br />\", \"Id: 206<br />\", \"Id: 264<br />\", \"Id: 173<br />\", \"Id: 200<br />\", \"Id: 281<br />\", \"Id: 487<br />\", \"Id: 142<br />\", \"Id: 146<br />\", \"Id: 740<br />\", \"Id: 565<br />\", \"Id: 770<br />\", \"Id: 702<br />\", \"Id: 569<br />\", \"Id: 149<br />\", \"Id: 125<br />\", \"Id: 597<br />\", \"Id: 875<br />\", \"Id: 299<br />\", \"Id: 814<br />\", \"Id: 129<br />\", \"Id: 6<br />\", \"Id: 294<br />\", \"Id: 851<br />\", \"Id: 333<br />\", \"Id: 59<br />\", \"Id: 34<br />\", \"Id: 826<br />\", \"Id: 131<br />\", \"Id: 144<br />\", \"Id: 772<br />\", \"Id: 313<br />\", \"Id: 778<br />\", \"Id: 306<br />\", \"Id: 606<br />\", \"Id: 229<br />\", \"Id: 243<br />\", \"Id: 104<br />\", \"Id: 756<br />\", \"Id: 844<br />\", \"Id: 848<br />\", \"Id: 479<br />\", \"Id: 291<br />\", \"Id: 554<br />\", \"Id: 460<br />\", \"Id: 850<br />\", \"Id: 464<br />\", \"Id: 854<br />\", \"Id: 647<br />\", \"Id: 471<br />\", \"Id: 819<br />\", \"Id: 150<br />\", \"Id: 839<br />\", \"Id: 24<br />\", \"Id: 27<br />\", \"Id: 105<br />\"], \"marker\": {\"color\": \"rgba(117, 152, 189, 0.9)\", \"line\": {\"color\": \"white\", \"width\": 0.8}, \"opacity\": 0.8, \"size\": 10}, \"mode\": \"markers\", \"type\": \"scatter\", \"x\": [\"27.0 yo\", \"50.0 yo\", \"18.0 yo\", \"32.0 yo\", \"39.0 yo\", \"27.0 yo\", \"30.0 yo\", \"24.0 yo\", \"32.0 yo\", \"56.0 yo\", \"29.5 yo\", \"29.5 yo\", \"18.0 yo\", \"29.5 yo\", \"44.0 yo\", \"33.0 yo\", \"50.0 yo\", \"33.0 yo\", \"29.5 yo\", \"28.5 yo\", \"20.5 yo\", \"28.0 yo\", \"29.5 yo\", \"28.0 yo\", \"25.0 yo\", \"25.0 yo\", \"26.0 yo\", \"43.0 yo\", \"52.0 yo\", \"29.5 yo\", \"19.0 yo\", \"21.0 yo\", \"29.0 yo\", \"22.0 yo\", \"29.5 yo\", \"46.0 yo\", \"70.0 yo\", \"24.0 yo\", \"29.5 yo\", \"17.0 yo\", \"22.0 yo\", \"27.0 yo\", \"18.0 yo\", \"34.0 yo\", \"19.0 yo\", \"34.0 yo\", \"34.0 yo\", \"21.0 yo\", \"16.0 yo\", \"15.0 yo\", \"54.0 yo\", \"36.0 yo\", \"29.5 yo\", \"28.0 yo\", \"29.5 yo\", \"29.0 yo\", \"28.0 yo\", \"22.0 yo\", \"34.0 yo\", \"29.5 yo\", \"29.5 yo\", \"23.0 yo\", \"26.0 yo\", \"18.0 yo\", \"29.5 yo\", \"40.0 yo\", \"13.0 yo\", \"14.5 yo\", \"29.5 yo\", \"29.5 yo\", \"23.0 yo\", \"19.0 yo\", \"18.0 yo\", \"29.5 yo\", \"36.0 yo\", \"39.0 yo\", \"10.0 yo\", \"24.0 yo\", \"29.5 yo\", \"38.0 yo\", \"29.0 yo\", \"28.0 yo\", \"18.0 yo\", \"29.5 yo\", \"44.0 yo\", \"9.0 yo\", \"19.0 yo\", \"24.0 yo\", \"21.0 yo\", \"1.0 yo\", \"22.0 yo\", \"47.0 yo\", \"24.0 yo\", \"23.0 yo\", \"29.5 yo\", \"16.0 yo\", \"29.5 yo\", \"29.5 yo\", \"23.0 yo\", \"23.0 yo\", \"22.0 yo\", \"36.0 yo\", \"25.0 yo\", \"51.0 yo\", \"29.5 yo\", \"29.5 yo\", \"4.0 yo\", \"29.5 yo\", \"9.0 yo\", \"48.0 yo\", \"60.0 yo\", \"37.0 yo\", \"29.5 yo\", \"29.5 yo\", \"25.0 yo\", \"16.0 yo\", \"28.0 yo\", \"14.0 yo\", \"62.0 yo\", \"47.0 yo\", \"29.5 yo\", \"8.0 yo\", \"27.0 yo\", \"35.0 yo\", \"2.0 yo\", \"40.0 yo\", \"1.0 yo\", \"24.0 yo\", \"65.0 yo\", \"35.0 yo\", \"22.0 yo\", \"19.0 yo\", \"29.5 yo\", \"29.5 yo\", \"32.0 yo\", \"35.0 yo\", \"29.5 yo\", \"36.5 yo\", \"54.0 yo\", \"29.5 yo\", \"28.0 yo\", \"29.5 yo\", \"6.0 yo\", \"29.5 yo\", \"29.5 yo\", \"24.0 yo\", \"4.0 yo\", \"38.0 yo\", \"5.0 yo\", \"66.0 yo\", \"29.5 yo\", \"33.0 yo\", \"19.0 yo\", \"48.0 yo\", \"26.0 yo\", \"5.0 yo\", \"0.92 yo\", \"36.0 yo\", \"18.0 yo\", \"29.0 yo\", \"33.0 yo\", \"0.67 yo\", \"34.5 yo\", \"35.0 yo\", \"22.0 yo\", \"26.0 yo\", \"22.0 yo\", \"29.5 yo\", \"29.5 yo\", \"48.0 yo\", \"16.0 yo\", \"19.0 yo\", \"29.5 yo\", \"43.0 yo\", \"42.0 yo\", \"32.0 yo\", \"28.0 yo\", \"29.5 yo\", \"37.0 yo\"], \"y\": [-0.015539601607370942, -0.01216929372869422, -0.0031726256502975867, -0.014167525910006244, -0.054979966713803854, 0.03584351774662095, 0.017869776456325412, 0.022904487571165342, 0.011767947337542306, -0.05075286297064818, 0.012023883975707072, -0.013243490371803586, 0.0001423288065111889, -0.03095537302609345, -0.007973043919824752, 0.02318681843392064, 0.05430622647126253, 0.00518667862683904, -0.047479072511010766, 0.03430909128678035, 0.030785507656950366, -0.04171300889465472, -0.03408151663715303, -0.0007003887376334354, 0.009504410460551288, -0.019330892159394496, 0.0006836094371677222, -0.020178090812439577, -0.029514415099850498, -0.0061762660236219175, 0.08487279043935529, -0.021238270028675597, 0.023356259833338486, -0.04527590340215458, -0.004544179691805822, -0.03125567012629253, -0.06904014277235987, -0.015205395719238497, -0.03422521729974043, 0.006020913122751773, -0.033146553507125746, 0.03235506560819423, -0.00960173474703198, 0.03243113248174249, 0.03416270265389807, -0.01813233469454573, 0.0034320462672320358, -0.04360248813945148, 0.035845128239397464, 0.06936450620130251, -0.04031601994786506, 0.03899500555402799, -0.042840607503800074, -0.008399331261465921, -0.01485269256238662, -0.007393553129099595, 0.017218555243428944, 0.003114357644266509, 0.017214753644985942, -0.04506579841401921, -0.017467416804352133, 0.004567189019131522, 0.021627603011260058, -0.01038702411920059, -0.0024641325182481696, 0.0010055599767964502, 0.03893233909332843, 0.07962342208285209, -0.036932969932691705, -0.010286097002357568, -0.05519560368640688, -0.004270942888261378, 0.08948410715865074, -0.02551916792680481, -0.0033159022986473954, -0.032128407025478714, 0.039013833067142414, 0.006985583560906671, 0.01737773931934375, -0.017651132153165685, 0.013798203818942215, -0.048362884164949, 0.0008565640108995382, -0.03204281714779956, 0.09384732952765484, 0.06274459952047884, 0.061408249611198874, 0.011097816148802925, -0.020842960374282807, 0.14506815712888266, -0.0018874097702731491, -0.012798449884088384, 0.019713527812640446, -0.06591999092478662, -0.03330132607710119, 0.060767319788137084, -0.023858714550135524, 0.027841981662828745, -0.0013748606174889143, -0.03436073841261856, 0.02143267651193168, 0.07409225382561924, 0.01778791033749476, 0.018253333743787625, -0.005934640064412415, 0.013072985861112928, 0.17023171941786755, -0.01942818110623069, 0.05218619119810415, -0.017896964593110777, -0.05544572597306605, 0.008691991118007898, -0.012976496053581312, -0.01759154111449836, -0.026039858874686284, 0.03223769278510749, 0.027144769226310345, 0.04728674363194147, -0.05510675610821384, -0.014339450410900739, -0.024319446626869752, 0.04025979387702173, -0.01732405095816909, 0.036871823940347624, 0.15918423564043027, -0.005110527424223686, 0.15432686243807162, 0.01290381084635872, -0.05379351344869717, 0.01905372025586212, 0.03448434579915789, 0.016518011852771013, -0.03148252870245887, -0.04770037727619123, 0.07411879883526913, 0.05752341927789627, -0.03796934494261545, -0.021977383728226517, -0.07303704342478054, 0.004362796216544855, 0.01783775141478542, -0.03279126248337163, 0.10133672071516667, -0.004225701074489341, 0.003157575410088921, -0.012267678649385974, 0.1029035042045454, 0.03878003664822756, 0.077913042063619, -0.0709544828565329, 0.011189667312655985, -0.03772441106175813, 0.04658919774391104, 0.03400928556810674, 0.011026135869937169, 0.1695602414928414, 0.06484874841788892, -0.029340215897796985, 0.028519780315676337, -0.016095483908179827, 0.005300475762231385, 0.16969943644715305, -0.04474380583319885, -0.058644189341097074, -0.021398345269370508, 0.01871927962368119, 0.006635295144180709, -0.025324292912734827, -0.003755875739068355, 0.05241006293375761, 0.011180153258292823, 0.015146069760039073, -0.026369820794095142, -0.043018972313131766, -0.011521538177940374, 0.05100524431804991, 0.03314419692009787, 0.02856088785849545, -0.01659729652218619]}],\n",
       "                        {\"height\": 600, \"hovermode\": \"closest\", \"template\": {\"data\": {\"scatter\": [{\"type\": \"scatter\"}]}}, \"title\": {\"font\": {\"color\": \"rgb(50, 50, 50)\", \"family\": \"Arial\", \"size\": 24}, \"text\": \"<b>Age</b> - Feature Contribution<span style='font-size: 12px;'><br />Response: <b>1</b></span>\", \"x\": 0.5, \"xanchor\": \"center\", \"y\": 0.9, \"yanchor\": \"middle\"}, \"width\": 900, \"xaxis\": {\"automargin\": true, \"title\": {\"font\": {\"color\": \"rgb(50, 50, 50)\", \"family\": \"Arial Black\", \"size\": 16}, \"text\": \"Age\"}}, \"yaxis\": {\"automargin\": true, \"title\": {\"font\": {\"color\": \"rgb(50, 50, 50)\", \"family\": \"Arial Black\", \"size\": 16}, \"text\": \"Contribution\"}}},\n",
       "                        {\"responsive\": true}\n",
       "                    ).then(function(){\n",
       "                            \n",
       "var gd = document.getElementById('0c622625-e4f1-40e7-9bcf-9297ee72bd62');\n",
       "var x = new MutationObserver(function (mutations, observer) {{\n",
       "        var display = window.getComputedStyle(gd).display;\n",
       "        if (!display || display === 'none') {{\n",
       "            console.log([gd, 'removed!']);\n",
       "            Plotly.purge(gd);\n",
       "            observer.disconnect();\n",
       "        }}\n",
       "}});\n",
       "\n",
       "// Listen for the removal of the full notebook cells\n",
       "var notebookContainer = gd.closest('#notebook-container');\n",
       "if (notebookContainer) {{\n",
       "    x.observe(notebookContainer, {childList: true});\n",
       "}}\n",
       "\n",
       "// Listen for the clearing of the current output cell\n",
       "var outputEl = gd.closest('.output');\n",
       "if (outputEl) {{\n",
       "    x.observe(outputEl, {childList: true});\n",
       "}}\n",
       "\n",
       "                        })\n",
       "                };\n",
       "                });\n",
       "            </script>\n",
       "        </div>"
      ]
     },
     "metadata": {},
     "output_type": "display_data"
    }
   ],
   "source": [
    "xpl.plot.contribution_plot('Age')"
   ]
  },
  {
   "cell_type": "code",
   "execution_count": null,
   "metadata": {},
   "outputs": [],
   "source": []
  },
  {
   "cell_type": "code",
   "execution_count": 40,
   "metadata": {
    "scrolled": false
   },
   "outputs": [
    {
     "data": {
      "text/plain": [
       "{'Pclass': 0,\n",
       " 'Name': 1,\n",
       " 'Sex': 2,\n",
       " 'Age': 3,\n",
       " 'SibSp': 4,\n",
       " 'Parch': 5,\n",
       " 'Fare': 6,\n",
       " 'Embarked': 7,\n",
       " 'Title': 8}"
      ]
     },
     "execution_count": 40,
     "metadata": {},
     "output_type": "execute_result"
    }
   ],
   "source": [
    "xpl.inv_columns_dict"
   ]
  },
  {
   "cell_type": "code",
   "execution_count": 41,
   "metadata": {},
   "outputs": [
    {
     "data": {
      "text/plain": [
       "{'PassengerID': 'PassengerID',\n",
       " 'Has survived ?': 'Survival',\n",
       " 'Ticket class': 'Pclass',\n",
       " 'Name, First name': 'Name',\n",
       " 'Sex': 'Sex',\n",
       " 'Age': 'Age',\n",
       " 'Relatives such as brother or wife': 'SibSp',\n",
       " 'Relatives like children or parents': 'Parch',\n",
       " 'Passenger fare': 'Fare',\n",
       " 'Port of embarkation': 'Embarked',\n",
       " 'Title of passenger': 'Title'}"
      ]
     },
     "execution_count": 41,
     "metadata": {},
     "output_type": "execute_result"
    }
   ],
   "source": [
    "xpl.inv_features_dict"
   ]
  },
  {
   "cell_type": "code",
   "execution_count": 42,
   "metadata": {},
   "outputs": [
    {
     "data": {
      "text/plain": [
       "{'Pclass': {'type': 'prefix', 'rule': 'Class type : '},\n",
       " 'Age': {'type': 'suffix', 'rule': ' yo'},\n",
       " 'Sex': {'type': 'transcoding', 'rule': {'male': 'Homme', 'female': 'Femme'}},\n",
       " 'Embarked': {'type': 'case', 'rule': 'upper'}}"
      ]
     },
     "execution_count": 42,
     "metadata": {},
     "output_type": "execute_result"
    }
   ],
   "source": [
    "postprocess"
   ]
  },
  {
   "cell_type": "code",
   "execution_count": 45,
   "metadata": {},
   "outputs": [
    {
     "data": {
      "text/html": [
       "['Pclass', 'Age', 'Sex', 'Embarked']"
      ],
      "text/plain": [
       "['Pclass', 'Age', 'Sex', 'Embarked']"
      ]
     },
     "execution_count": 45,
     "metadata": {},
     "output_type": "execute_result"
    }
   ],
   "source": [
    "list(postprocess.keys())"
   ]
  },
  {
   "cell_type": "code",
   "execution_count": 47,
   "metadata": {},
   "outputs": [
    {
     "data": {
      "text/plain": [
       "{'PassengerID': 'PassengerID',\n",
       " 'Survival': 'Has survived ?',\n",
       " 'Pclass': 'Ticket class',\n",
       " 'Name': 'Name, First name',\n",
       " 'Sex': 'Sex',\n",
       " 'Age': 'Age',\n",
       " 'SibSp': 'Relatives such as brother or wife',\n",
       " 'Parch': 'Relatives like children or parents',\n",
       " 'Fare': 'Passenger fare',\n",
       " 'Embarked': 'Port of embarkation',\n",
       " 'Title': 'Title of passenger'}"
      ]
     },
     "execution_count": 47,
     "metadata": {},
     "output_type": "execute_result"
    }
   ],
   "source": [
    "xpl.features_dict"
   ]
  },
  {
   "cell_type": "code",
   "execution_count": 64,
   "metadata": {},
   "outputs": [],
   "source": [
    "a = list(map(xpl.features_dict.get, postprocess.keys()))"
   ]
  },
  {
   "cell_type": "code",
   "execution_count": 65,
   "metadata": {},
   "outputs": [
    {
     "data": {
      "text/html": [
       "['Ticket class', 'Age', 'Sex', 'Port of embarkation']"
      ],
      "text/plain": [
       "['Ticket class', 'Age', 'Sex', 'Port of embarkation']"
      ]
     },
     "execution_count": 65,
     "metadata": {},
     "output_type": "execute_result"
    }
   ],
   "source": [
    "a"
   ]
  },
  {
   "cell_type": "code",
   "execution_count": 69,
   "metadata": {},
   "outputs": [
    {
     "data": {
      "text/plain": [
       "{'Pclass': {'type': 'prefix', 'rule': 'Class type : '},\n",
       " 'Age': {'type': 'suffix', 'rule': ' yo'},\n",
       " 'Sex': {'type': 'transcoding', 'rule': {'male': 'Homme', 'female': 'Femme'}},\n",
       " 'Embarked': {'type': 'case', 'rule': 'upper'}}"
      ]
     },
     "execution_count": 69,
     "metadata": {},
     "output_type": "execute_result"
    }
   ],
   "source": [
    "postprocess"
   ]
  },
  {
   "cell_type": "code",
   "execution_count": null,
   "metadata": {},
   "outputs": [],
   "source": [
    "\n"
   ]
  },
  {
   "cell_type": "code",
   "execution_count": 101,
   "metadata": {},
   "outputs": [],
   "source": [
    "test_dic = {'Pclass': {'type': 'prefix', 'rule': 'Class type : '},\n",
    " 3: {'type': 'suffix', 'rule': ' yo'},\n",
    " 'Sex': {'type': 'transcoding', 'rule': {'male': 'Homme', 'female': 'Femme'}},\n",
    " 'Port of embarkation': {'type': 'case', 'rule': 'upper'}}"
   ]
  },
  {
   "cell_type": "code",
   "execution_count": 90,
   "metadata": {},
   "outputs": [
    {
     "data": {
      "text/plain": [
       "{0: 'Pclass',\n",
       " 1: 'Name',\n",
       " 2: 'Sex',\n",
       " 3: 'Age',\n",
       " 4: 'SibSp',\n",
       " 5: 'Parch',\n",
       " 6: 'Fare',\n",
       " 7: 'Embarked',\n",
       " 8: 'Title'}"
      ]
     },
     "execution_count": 90,
     "metadata": {},
     "output_type": "execute_result"
    }
   ],
   "source": [
    "xpl.columns_dict"
   ]
  },
  {
   "cell_type": "code",
   "execution_count": 71,
   "metadata": {},
   "outputs": [],
   "source": [
    "b = list(map(xpl.inv_features_dict.get, test_dic.keys()))"
   ]
  },
  {
   "cell_type": "code",
   "execution_count": 73,
   "metadata": {},
   "outputs": [],
   "source": [
    "test_dic['test'] = test_dic.pop('Age')"
   ]
  },
  {
   "cell_type": "code",
   "execution_count": 91,
   "metadata": {},
   "outputs": [
    {
     "data": {
      "text/plain": [
       "{'Pclass': {'type': 'prefix', 'rule': 'Class type : '},\n",
       " 3: {'type': 'suffix', 'rule': ' yo'},\n",
       " 'Sex': {'type': 'transcoding', 'rule': {'male': 'Homme', 'female': 'Femme'}},\n",
       " 'Port of embarkation': {'type': 'case', 'rule': 'upper'}}"
      ]
     },
     "execution_count": 91,
     "metadata": {},
     "output_type": "execute_result"
    }
   ],
   "source": [
    "test_dic"
   ]
  },
  {
   "cell_type": "code",
   "execution_count": 86,
   "metadata": {},
   "outputs": [],
   "source": [
    "test1 = list(map(xpl.inv_features_dict.get, test_dic.keys()))\n",
    "test2 = list(map(xpl.columns_dict.get, test_dic.keys()))"
   ]
  },
  {
   "cell_type": "code",
   "execution_count": 87,
   "metadata": {},
   "outputs": [
    {
     "data": {
      "text/html": [
       "[None, None, 'Sex', 'Embarked']"
      ],
      "text/plain": [
       "[None, None, 'Sex', 'Embarked']"
      ]
     },
     "execution_count": 87,
     "metadata": {},
     "output_type": "execute_result"
    }
   ],
   "source": [
    "test1"
   ]
  },
  {
   "cell_type": "code",
   "execution_count": 100,
   "metadata": {},
   "outputs": [
    {
     "data": {
      "text/plain": [
       "{'Pclass': {'type': 'prefix', 'rule': 'Class type : '},\n",
       " 'Age': {'type': 'suffix', 'rule': ' yo'}}"
      ]
     },
     "execution_count": 100,
     "metadata": {},
     "output_type": "execute_result"
    }
   ],
   "source": [
    "test_dic"
   ]
  },
  {
   "cell_type": "code",
   "execution_count": 102,
   "metadata": {},
   "outputs": [],
   "source": [
    "new_dic = dict()\n",
    "for i, key in enumerate(test_dic.keys()):\n",
    "    if key in xpl.columns_dict.keys():\n",
    "        new_dic[xpl.columns_dict[key]] = test_dic[key]\n",
    "        \n",
    "    elif key in xpl.inv_features_dict:\n",
    "        new_dic[xpl.inv_features_dict[key]] = test_dic[key]\n",
    "    else:\n",
    "        new_dic[key] = test_dic[key]\n",
    "        \n",
    "    \n",
    "    \n",
    "    "
   ]
  },
  {
   "cell_type": "code",
   "execution_count": 103,
   "metadata": {},
   "outputs": [
    {
     "data": {
      "text/plain": [
       "{'Pclass': {'type': 'prefix', 'rule': 'Class type : '},\n",
       " 'Age': {'type': 'suffix', 'rule': ' yo'},\n",
       " 'Sex': {'type': 'transcoding', 'rule': {'male': 'Homme', 'female': 'Femme'}},\n",
       " 'Embarked': {'type': 'case', 'rule': 'upper'}}"
      ]
     },
     "execution_count": 103,
     "metadata": {},
     "output_type": "execute_result"
    }
   ],
   "source": [
    "new_dic"
   ]
  },
  {
   "cell_type": "code",
   "execution_count": 104,
   "metadata": {},
   "outputs": [
    {
     "data": {
      "text/plain": [
       "{'Pclass': {'type': 'prefix', 'rule': 'Class type : '},\n",
       " 'Age': {'type': 'suffix', 'rule': ' yo'},\n",
       " 'Sex': {'type': 'transcoding', 'rule': {'male': 'Homme', 'female': 'Femme'}},\n",
       " 'Embarked': {'type': 'case', 'rule': 'upper'}}"
      ]
     },
     "execution_count": 104,
     "metadata": {},
     "output_type": "execute_result"
    }
   ],
   "source": [
    "postprocess"
   ]
  },
  {
   "cell_type": "code",
   "execution_count": null,
   "metadata": {},
   "outputs": [],
   "source": []
  }
 ],
 "metadata": {
  "kernelspec": {
   "display_name": "Python 3",
   "language": "python",
   "name": "python3"
  },
  "language_info": {
   "codemirror_mode": {
    "name": "ipython",
    "version": 3
   },
   "file_extension": ".py",
   "mimetype": "text/x-python",
   "name": "python",
   "nbconvert_exporter": "python",
   "pygments_lexer": "ipython3",
   "version": "3.7.2"
  }
 },
 "nbformat": 4,
 "nbformat_minor": 4
}
