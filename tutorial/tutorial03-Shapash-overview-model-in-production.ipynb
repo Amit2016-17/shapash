{
 "cells": [
  {
   "cell_type": "markdown",
   "metadata": {},
   "source": [
    "# Shapash model in production - Overview\n",
    "\n",
    "<b>With this tutorial you:</b><br />\n",
    "Understand how create a Shapash SmartPredictor to make prediction and have explanation in production\n",
    "with a simple use case.<br />\n",
    "\n",
    "A tutorial more detailed, will go further to help you getting started with the SmartPredictor Object.\n",
    "\n",
    "Contents:\n",
    "- Build a Regressor\n",
    "- Compile Shapash SmartExplainer\n",
    "- Compile Shapash SmartExplainer to SmartPredictor\n",
    "- Save Shapash Smartpredictor Object in pickle file\n",
    "- Make a prediction\n",
    "\n",
    "Data from Kaggle [House Prices](https://www.kaggle.com/c/house-prices-advanced-regression-techniques/data)"
   ]
  },
  {
   "cell_type": "code",
   "execution_count": 1,
   "metadata": {},
   "outputs": [],
   "source": [
    "import pandas as pd\n",
    "from category_encoders import OrdinalEncoder\n",
    "from lightgbm import LGBMRegressor\n",
    "from sklearn.model_selection import train_test_split"
   ]
  },
  {
   "cell_type": "markdown",
   "metadata": {},
   "source": [
    "## Building Supervized Model "
   ]
  },
  {
   "cell_type": "markdown",
   "metadata": {},
   "source": [
    "In this section, we will train a Machine Learning supervized model with our data House Prices."
   ]
  },
  {
   "cell_type": "code",
   "execution_count": 4,
   "metadata": {},
   "outputs": [],
   "source": [
    "from shapash.data.data_loader import data_loading\n",
    "house_df, house_dict = data_loading('house_prices')"
   ]
  },
  {
   "cell_type": "code",
   "execution_count": 5,
   "metadata": {},
   "outputs": [],
   "source": [
    "y_df=house_df['SalePrice'].to_frame()\n",
    "X_df=house_df[house_df.columns.difference(['SalePrice'])]"
   ]
  },
  {
   "cell_type": "markdown",
   "metadata": {},
   "source": [
    "#### Encoding Categorical Features "
   ]
  },
  {
   "cell_type": "markdown",
   "metadata": {},
   "source": [
    "We need to use a preprocessing on our data for handling categorical features before the training step."
   ]
  },
  {
   "cell_type": "code",
   "execution_count": 7,
   "metadata": {},
   "outputs": [],
   "source": [
    "from category_encoders import OrdinalEncoder\n",
    "\n",
    "categorical_features = [col for col in X_df.columns if X_df[col].dtype == 'object']\n",
    "\n",
    "encoder = OrdinalEncoder(\n",
    "    cols=categorical_features,\n",
    "    handle_unknown='ignore',\n",
    "    return_df=True).fit(X_df)\n",
    "\n",
    "X_df=encoder.transform(X_df)"
   ]
  },
  {
   "cell_type": "markdown",
   "metadata": {},
   "source": [
    "#### Train / Test Split"
   ]
  },
  {
   "cell_type": "code",
   "execution_count": 8,
   "metadata": {},
   "outputs": [],
   "source": [
    "Xtrain, Xtest, ytrain, ytest = train_test_split(X_df, y_df, train_size=0.75, random_state=1)"
   ]
  },
  {
   "cell_type": "markdown",
   "metadata": {},
   "source": [
    "#### Model Fitting"
   ]
  },
  {
   "cell_type": "code",
   "execution_count": 9,
   "metadata": {},
   "outputs": [],
   "source": [
    "regressor = LGBMRegressor(n_estimators=200).fit(Xtrain,ytrain)"
   ]
  },
  {
   "cell_type": "code",
   "execution_count": 10,
   "metadata": {},
   "outputs": [],
   "source": [
    "y_pred = pd.DataFrame(regressor.predict(Xtest),columns=['pred'],index=Xtest.index)"
   ]
  },
  {
   "cell_type": "markdown",
   "metadata": {},
   "source": [
    "## Understand my model with shapash"
   ]
  },
  {
   "cell_type": "markdown",
   "metadata": {},
   "source": [
    "- In this section, we will use the SmartExplainer Object from shapash which allow the users to understand how the model works with the dataset specified. \n",
    "- This object must be used only for data mining step. Shapash provide another object for deployment.\n",
    "- In this tutorial, we will not explore possibilites of the SmartExplainer but others will. (you can go check them)"
   ]
  },
  {
   "cell_type": "markdown",
   "metadata": {},
   "source": [
    "#### Declare and Compile SmartExplainer "
   ]
  },
  {
   "cell_type": "code",
   "execution_count": 11,
   "metadata": {},
   "outputs": [],
   "source": [
    "from shapash.explainer.smart_explainer import SmartExplainer"
   ]
  },
  {
   "cell_type": "code",
   "execution_count": 12,
   "metadata": {},
   "outputs": [],
   "source": [
    "xpl = SmartExplainer()"
   ]
  },
  {
   "cell_type": "code",
   "execution_count": 31,
   "metadata": {},
   "outputs": [
    {
     "name": "stdout",
     "output_type": "stream",
     "text": [
      "Backend: Shap TreeExplainer\n"
     ]
    }
   ],
   "source": [
    "xpl.compile(\n",
    "    x=Xtest,\n",
    "    model=regressor,\n",
    "    preprocessing=encoder, # Optional: compile step can use inverse_transform method\n",
    "    y_pred=y_pred # Optional\n",
    ")"
   ]
  },
  {
   "cell_type": "markdown",
   "metadata": {},
   "source": [
    "#### Compile SmartExplainer to SmartPredictor"
   ]
  },
  {
   "cell_type": "markdown",
   "metadata": {},
   "source": [
    "- When you are satisfied by your results and the explainablity given by Shapash, you can use the SmartPredictor object for deployement. \n",
    "- In this section, we will learn how to easily switch from SmartExplainer to a SmartPredictor.\n",
    "- SmartPredictor allows you not to only understand results of your models but also to produce those results on new data automatically.\n",
    "- It will make new predictions and summarize explainability that you configured  to make it operational to your needs.\n",
    "- SmartPredictor take only neccessary attribute to be lighter and more consistent than Smartexplainer for deployment context. \n",
    "- SmartPredictor can be use with API or in batch mode."
   ]
  },
  {
   "cell_type": "code",
   "execution_count": 14,
   "metadata": {},
   "outputs": [],
   "source": [
    "predictor = xpl.to_smartpredictor()"
   ]
  },
  {
   "cell_type": "markdown",
   "metadata": {},
   "source": [
    "## Save and Load your Predictor"
   ]
  },
  {
   "cell_type": "markdown",
   "metadata": {},
   "source": [
    "You can easily save and load your SmartPredictor Object in pickle."
   ]
  },
  {
   "cell_type": "markdown",
   "metadata": {},
   "source": [
    "#### Save your predictor in Pickle File"
   ]
  },
  {
   "cell_type": "code",
   "execution_count": 15,
   "metadata": {},
   "outputs": [],
   "source": [
    "predictor.save('./predictor.pkl')"
   ]
  },
  {
   "cell_type": "markdown",
   "metadata": {},
   "source": [
    "#### Load your predictor in Pickle File"
   ]
  },
  {
   "cell_type": "code",
   "execution_count": 17,
   "metadata": {},
   "outputs": [],
   "source": [
    "from shapash.utils.load_smartpredictor import load_smartpredictor"
   ]
  },
  {
   "cell_type": "code",
   "execution_count": 18,
   "metadata": {},
   "outputs": [],
   "source": [
    "predictor_load = load_smartpredictor('./predictor.pkl')"
   ]
  },
  {
   "cell_type": "markdown",
   "metadata": {},
   "source": [
    "## Make a prediction with your Predictor"
   ]
  },
  {
   "cell_type": "markdown",
   "metadata": {},
   "source": [
    "- In order to make new predictions and summarize local explainability of your model on new datasets, you can use the method add_input of the SmartPredictor.\n",
    "- The add_input method is the first step to add a dataset for prediction and explainability.\n",
    "- It checks the structure of the dataset, the prediction and the contribution if specified. \n",
    "- It applies the preprocessing specified in the initialisation and reorder the features with the order used by the model. (see the documentation on this method)\n",
    "- In API mode, this method can handle dictionnaries data which can be received from a GET or a POST request."
   ]
  },
  {
   "cell_type": "markdown",
   "metadata": {},
   "source": [
    "#### Add data"
   ]
  },
  {
   "cell_type": "code",
   "execution_count": 19,
   "metadata": {},
   "outputs": [],
   "source": [
    "predictor_load.add_input(x=X_df, ypred=y_df)"
   ]
  },
  {
   "cell_type": "markdown",
   "metadata": {},
   "source": [
    "#### Make prediction"
   ]
  },
  {
   "cell_type": "markdown",
   "metadata": {},
   "source": [
    "You can use the method predict of the SmartPredictor to make prediction on your newdata added before with add_input."
   ]
  },
  {
   "cell_type": "code",
   "execution_count": 20,
   "metadata": {},
   "outputs": [],
   "source": [
    "prediction = predictor_load.predict()"
   ]
  },
  {
   "cell_type": "code",
   "execution_count": 21,
   "metadata": {},
   "outputs": [
    {
     "data": {
      "text/html": [
       "<div>\n",
       "<style scoped>\n",
       "    .dataframe tbody tr th:only-of-type {\n",
       "        vertical-align: middle;\n",
       "    }\n",
       "\n",
       "    .dataframe tbody tr th {\n",
       "        vertical-align: top;\n",
       "    }\n",
       "\n",
       "    .dataframe thead th {\n",
       "        text-align: right;\n",
       "    }\n",
       "</style>\n",
       "<table border=\"1\" class=\"dataframe\">\n",
       "  <thead>\n",
       "    <tr style=\"text-align: right;\">\n",
       "      <th></th>\n",
       "      <th>ypred</th>\n",
       "    </tr>\n",
       "    <tr>\n",
       "      <th>Id</th>\n",
       "      <th></th>\n",
       "    </tr>\n",
       "  </thead>\n",
       "  <tbody>\n",
       "    <tr>\n",
       "      <th>1</th>\n",
       "      <td>206462.878757</td>\n",
       "    </tr>\n",
       "    <tr>\n",
       "      <th>2</th>\n",
       "      <td>181533.722748</td>\n",
       "    </tr>\n",
       "    <tr>\n",
       "      <th>3</th>\n",
       "      <td>223035.016548</td>\n",
       "    </tr>\n",
       "    <tr>\n",
       "      <th>4</th>\n",
       "      <td>163889.216253</td>\n",
       "    </tr>\n",
       "    <tr>\n",
       "      <th>5</th>\n",
       "      <td>253226.682587</td>\n",
       "    </tr>\n",
       "  </tbody>\n",
       "</table>\n",
       "</div>"
      ],
      "text/plain": [
       "            ypred\n",
       "Id               \n",
       "1   206462.878757\n",
       "2   181533.722748\n",
       "3   223035.016548\n",
       "4   163889.216253\n",
       "5   253226.682587"
      ]
     },
     "execution_count": 21,
     "metadata": {},
     "output_type": "execute_result"
    }
   ],
   "source": [
    "prediction.head()"
   ]
  },
  {
   "cell_type": "markdown",
   "metadata": {},
   "source": [
    "#### Get detailed explanability associated to the prediction"
   ]
  },
  {
   "cell_type": "markdown",
   "metadata": {},
   "source": [
    "- You can use the method detail_contributions to see the detailed contributions of each of your features for each row of your new dataset.\n",
    "- For classification problems, it will automatically associated contributions with the right predicted label. \n",
    "- The predicted label can be compute automatically with predict method or you can specify in add_input method an ypred"
   ]
  },
  {
   "cell_type": "code",
   "execution_count": 22,
   "metadata": {},
   "outputs": [],
   "source": [
    "detailed_contributions = predictor_load.detail_contributions()"
   ]
  },
  {
   "cell_type": "code",
   "execution_count": 23,
   "metadata": {},
   "outputs": [
    {
     "data": {
      "text/html": [
       "<div>\n",
       "<style scoped>\n",
       "    .dataframe tbody tr th:only-of-type {\n",
       "        vertical-align: middle;\n",
       "    }\n",
       "\n",
       "    .dataframe tbody tr th {\n",
       "        vertical-align: top;\n",
       "    }\n",
       "\n",
       "    .dataframe thead th {\n",
       "        text-align: right;\n",
       "    }\n",
       "</style>\n",
       "<table border=\"1\" class=\"dataframe\">\n",
       "  <thead>\n",
       "    <tr style=\"text-align: right;\">\n",
       "      <th></th>\n",
       "      <th>ypred</th>\n",
       "      <th>1stFlrSF</th>\n",
       "      <th>2ndFlrSF</th>\n",
       "      <th>3SsnPorch</th>\n",
       "      <th>BedroomAbvGr</th>\n",
       "      <th>BldgType</th>\n",
       "      <th>BsmtCond</th>\n",
       "      <th>BsmtExposure</th>\n",
       "      <th>BsmtFinSF1</th>\n",
       "      <th>BsmtFinSF2</th>\n",
       "      <th>...</th>\n",
       "      <th>SaleType</th>\n",
       "      <th>ScreenPorch</th>\n",
       "      <th>Street</th>\n",
       "      <th>TotRmsAbvGrd</th>\n",
       "      <th>TotalBsmtSF</th>\n",
       "      <th>Utilities</th>\n",
       "      <th>WoodDeckSF</th>\n",
       "      <th>YearBuilt</th>\n",
       "      <th>YearRemodAdd</th>\n",
       "      <th>YrSold</th>\n",
       "    </tr>\n",
       "    <tr>\n",
       "      <th>Id</th>\n",
       "      <th></th>\n",
       "      <th></th>\n",
       "      <th></th>\n",
       "      <th></th>\n",
       "      <th></th>\n",
       "      <th></th>\n",
       "      <th></th>\n",
       "      <th></th>\n",
       "      <th></th>\n",
       "      <th></th>\n",
       "      <th></th>\n",
       "      <th></th>\n",
       "      <th></th>\n",
       "      <th></th>\n",
       "      <th></th>\n",
       "      <th></th>\n",
       "      <th></th>\n",
       "      <th></th>\n",
       "      <th></th>\n",
       "      <th></th>\n",
       "      <th></th>\n",
       "    </tr>\n",
       "  </thead>\n",
       "  <tbody>\n",
       "    <tr>\n",
       "      <th>1</th>\n",
       "      <td>206462.878757</td>\n",
       "      <td>-1104.994176</td>\n",
       "      <td>1281.445856</td>\n",
       "      <td>0.0</td>\n",
       "      <td>375.679661</td>\n",
       "      <td>12.259902</td>\n",
       "      <td>157.224629</td>\n",
       "      <td>-233.025420</td>\n",
       "      <td>-738.445396</td>\n",
       "      <td>-59.294761</td>\n",
       "      <td>...</td>\n",
       "      <td>-104.645827</td>\n",
       "      <td>-351.621116</td>\n",
       "      <td>0.0</td>\n",
       "      <td>-498.228775</td>\n",
       "      <td>-5165.503476</td>\n",
       "      <td>0.0</td>\n",
       "      <td>-944.040092</td>\n",
       "      <td>3870.961681</td>\n",
       "      <td>2219.313761</td>\n",
       "      <td>17.478037</td>\n",
       "    </tr>\n",
       "    <tr>\n",
       "      <th>2</th>\n",
       "      <td>181533.722748</td>\n",
       "      <td>2249.403962</td>\n",
       "      <td>-655.861167</td>\n",
       "      <td>0.0</td>\n",
       "      <td>123.907278</td>\n",
       "      <td>-9.270166</td>\n",
       "      <td>139.431860</td>\n",
       "      <td>2699.247506</td>\n",
       "      <td>5102.469936</td>\n",
       "      <td>-84.771341</td>\n",
       "      <td>...</td>\n",
       "      <td>-153.842142</td>\n",
       "      <td>-236.526862</td>\n",
       "      <td>0.0</td>\n",
       "      <td>-705.112993</td>\n",
       "      <td>2988.981279</td>\n",
       "      <td>0.0</td>\n",
       "      <td>2090.785074</td>\n",
       "      <td>323.902986</td>\n",
       "      <td>-3861.776078</td>\n",
       "      <td>424.382977</td>\n",
       "    </tr>\n",
       "    <tr>\n",
       "      <th>3</th>\n",
       "      <td>223035.016548</td>\n",
       "      <td>-1426.795115</td>\n",
       "      <td>-616.113112</td>\n",
       "      <td>0.0</td>\n",
       "      <td>369.536957</td>\n",
       "      <td>9.210944</td>\n",
       "      <td>199.213726</td>\n",
       "      <td>1032.288162</td>\n",
       "      <td>-92.179454</td>\n",
       "      <td>-93.169310</td>\n",
       "      <td>...</td>\n",
       "      <td>-91.178667</td>\n",
       "      <td>-280.832451</td>\n",
       "      <td>0.0</td>\n",
       "      <td>-324.734175</td>\n",
       "      <td>-5338.340597</td>\n",
       "      <td>0.0</td>\n",
       "      <td>-777.746743</td>\n",
       "      <td>3837.761102</td>\n",
       "      <td>2192.921648</td>\n",
       "      <td>-98.965041</td>\n",
       "    </tr>\n",
       "    <tr>\n",
       "      <th>4</th>\n",
       "      <td>163889.216253</td>\n",
       "      <td>-653.873832</td>\n",
       "      <td>121.459865</td>\n",
       "      <td>0.0</td>\n",
       "      <td>307.677892</td>\n",
       "      <td>9.720006</td>\n",
       "      <td>252.786934</td>\n",
       "      <td>-530.156452</td>\n",
       "      <td>-2987.649814</td>\n",
       "      <td>-77.039912</td>\n",
       "      <td>...</td>\n",
       "      <td>-114.608224</td>\n",
       "      <td>-338.435699</td>\n",
       "      <td>0.0</td>\n",
       "      <td>-635.065828</td>\n",
       "      <td>-6548.453864</td>\n",
       "      <td>0.0</td>\n",
       "      <td>-974.503140</td>\n",
       "      <td>-3386.361210</td>\n",
       "      <td>-5232.537839</td>\n",
       "      <td>1633.763619</td>\n",
       "    </tr>\n",
       "    <tr>\n",
       "      <th>5</th>\n",
       "      <td>253226.682587</td>\n",
       "      <td>-9531.577733</td>\n",
       "      <td>-1097.620788</td>\n",
       "      <td>0.0</td>\n",
       "      <td>-1574.988323</td>\n",
       "      <td>7.453569</td>\n",
       "      <td>130.470247</td>\n",
       "      <td>623.939546</td>\n",
       "      <td>-2396.572526</td>\n",
       "      <td>-92.929525</td>\n",
       "      <td>...</td>\n",
       "      <td>-481.118248</td>\n",
       "      <td>-366.250007</td>\n",
       "      <td>0.0</td>\n",
       "      <td>-4733.603060</td>\n",
       "      <td>-4675.706762</td>\n",
       "      <td>0.0</td>\n",
       "      <td>165.653455</td>\n",
       "      <td>2334.652063</td>\n",
       "      <td>1355.358932</td>\n",
       "      <td>-395.126541</td>\n",
       "    </tr>\n",
       "  </tbody>\n",
       "</table>\n",
       "<p>5 rows × 73 columns</p>\n",
       "</div>"
      ],
      "text/plain": [
       "            ypred     1stFlrSF     2ndFlrSF  3SsnPorch  BedroomAbvGr  \\\n",
       "Id                                                                     \n",
       "1   206462.878757 -1104.994176  1281.445856        0.0    375.679661   \n",
       "2   181533.722748  2249.403962  -655.861167        0.0    123.907278   \n",
       "3   223035.016548 -1426.795115  -616.113112        0.0    369.536957   \n",
       "4   163889.216253  -653.873832   121.459865        0.0    307.677892   \n",
       "5   253226.682587 -9531.577733 -1097.620788        0.0  -1574.988323   \n",
       "\n",
       "     BldgType    BsmtCond  BsmtExposure   BsmtFinSF1  BsmtFinSF2  ...  \\\n",
       "Id                                                                ...   \n",
       "1   12.259902  157.224629   -233.025420  -738.445396  -59.294761  ...   \n",
       "2   -9.270166  139.431860   2699.247506  5102.469936  -84.771341  ...   \n",
       "3    9.210944  199.213726   1032.288162   -92.179454  -93.169310  ...   \n",
       "4    9.720006  252.786934   -530.156452 -2987.649814  -77.039912  ...   \n",
       "5    7.453569  130.470247    623.939546 -2396.572526  -92.929525  ...   \n",
       "\n",
       "      SaleType  ScreenPorch  Street  TotRmsAbvGrd  TotalBsmtSF  Utilities  \\\n",
       "Id                                                                          \n",
       "1  -104.645827  -351.621116     0.0   -498.228775 -5165.503476        0.0   \n",
       "2  -153.842142  -236.526862     0.0   -705.112993  2988.981279        0.0   \n",
       "3   -91.178667  -280.832451     0.0   -324.734175 -5338.340597        0.0   \n",
       "4  -114.608224  -338.435699     0.0   -635.065828 -6548.453864        0.0   \n",
       "5  -481.118248  -366.250007     0.0  -4733.603060 -4675.706762        0.0   \n",
       "\n",
       "     WoodDeckSF    YearBuilt  YearRemodAdd       YrSold  \n",
       "Id                                                       \n",
       "1   -944.040092  3870.961681   2219.313761    17.478037  \n",
       "2   2090.785074   323.902986  -3861.776078   424.382977  \n",
       "3   -777.746743  3837.761102   2192.921648   -98.965041  \n",
       "4   -974.503140 -3386.361210  -5232.537839  1633.763619  \n",
       "5    165.653455  2334.652063   1355.358932  -395.126541  \n",
       "\n",
       "[5 rows x 73 columns]"
      ]
     },
     "execution_count": 23,
     "metadata": {},
     "output_type": "execute_result"
    }
   ],
   "source": [
    "detailed_contributions.head()"
   ]
  },
  {
   "cell_type": "markdown",
   "metadata": {},
   "source": [
    "#### Summarize explanability of the predictions"
   ]
  },
  {
   "cell_type": "markdown",
   "metadata": {},
   "source": [
    "- You can use the summarize method to summarize your local explainability\n",
    "- This summary can be configured with the method modify_mask in order for you to have the explainability that satisfy your operational needs\n",
    "- You can also specify :\n",
    ">- a postprocessing when you initialize your SmartPredictor to apply a wording to several values of your dataset.\n",
    ">- a label_dict to rename your label in classification problems (during the initialisation of your SmartPredictor).\n",
    ">- a features_dict to rename your features."
   ]
  },
  {
   "cell_type": "code",
   "execution_count": 27,
   "metadata": {},
   "outputs": [],
   "source": [
    "predictor_load.modify_mask(max_contrib=5)"
   ]
  },
  {
   "cell_type": "code",
   "execution_count": 28,
   "metadata": {},
   "outputs": [],
   "source": [
    "explanation = predictor_load.summarize()"
   ]
  },
  {
   "cell_type": "markdown",
   "metadata": {},
   "source": [
    "For example, here, we choose to only build a summary with 5 most contributives features of your datasets."
   ]
  },
  {
   "cell_type": "code",
   "execution_count": 29,
   "metadata": {},
   "outputs": [
    {
     "data": {
      "text/html": [
       "<div>\n",
       "<style scoped>\n",
       "    .dataframe tbody tr th:only-of-type {\n",
       "        vertical-align: middle;\n",
       "    }\n",
       "\n",
       "    .dataframe tbody tr th {\n",
       "        vertical-align: top;\n",
       "    }\n",
       "\n",
       "    .dataframe thead th {\n",
       "        text-align: right;\n",
       "    }\n",
       "</style>\n",
       "<table border=\"1\" class=\"dataframe\">\n",
       "  <thead>\n",
       "    <tr style=\"text-align: right;\">\n",
       "      <th></th>\n",
       "      <th>ypred</th>\n",
       "      <th>feature_1</th>\n",
       "      <th>value_1</th>\n",
       "      <th>contribution_1</th>\n",
       "      <th>feature_2</th>\n",
       "      <th>value_2</th>\n",
       "      <th>contribution_2</th>\n",
       "      <th>feature_3</th>\n",
       "      <th>value_3</th>\n",
       "      <th>contribution_3</th>\n",
       "      <th>feature_4</th>\n",
       "      <th>value_4</th>\n",
       "      <th>contribution_4</th>\n",
       "      <th>feature_5</th>\n",
       "      <th>value_5</th>\n",
       "      <th>contribution_5</th>\n",
       "    </tr>\n",
       "  </thead>\n",
       "  <tbody>\n",
       "    <tr>\n",
       "      <th>1</th>\n",
       "      <td>206462.878757</td>\n",
       "      <td>OverallQual</td>\n",
       "      <td>7</td>\n",
       "      <td>8248.82</td>\n",
       "      <td>TotalBsmtSF</td>\n",
       "      <td>856</td>\n",
       "      <td>-5165.5</td>\n",
       "      <td>YearBuilt</td>\n",
       "      <td>2003</td>\n",
       "      <td>3870.96</td>\n",
       "      <td>BsmtUnfSF</td>\n",
       "      <td>150</td>\n",
       "      <td>3769.64</td>\n",
       "      <td>GarageArea</td>\n",
       "      <td>548</td>\n",
       "      <td>3107.92</td>\n",
       "    </tr>\n",
       "    <tr>\n",
       "      <th>2</th>\n",
       "      <td>181533.722748</td>\n",
       "      <td>OverallQual</td>\n",
       "      <td>6</td>\n",
       "      <td>-14419.4</td>\n",
       "      <td>GrLivArea</td>\n",
       "      <td>1262</td>\n",
       "      <td>-9238.07</td>\n",
       "      <td>OverallCond</td>\n",
       "      <td>8</td>\n",
       "      <td>6371.61</td>\n",
       "      <td>BsmtFinSF1</td>\n",
       "      <td>978</td>\n",
       "      <td>5102.47</td>\n",
       "      <td>Fireplaces</td>\n",
       "      <td>1</td>\n",
       "      <td>4450.28</td>\n",
       "    </tr>\n",
       "    <tr>\n",
       "      <th>3</th>\n",
       "      <td>223035.016548</td>\n",
       "      <td>GrLivArea</td>\n",
       "      <td>1786</td>\n",
       "      <td>15880.4</td>\n",
       "      <td>OverallQual</td>\n",
       "      <td>7</td>\n",
       "      <td>9651.28</td>\n",
       "      <td>GarageArea</td>\n",
       "      <td>608</td>\n",
       "      <td>6259.46</td>\n",
       "      <td>TotalBsmtSF</td>\n",
       "      <td>920</td>\n",
       "      <td>-5338.34</td>\n",
       "      <td>YearBuilt</td>\n",
       "      <td>2001</td>\n",
       "      <td>3837.76</td>\n",
       "    </tr>\n",
       "    <tr>\n",
       "      <th>4</th>\n",
       "      <td>163889.216253</td>\n",
       "      <td>TotalBsmtSF</td>\n",
       "      <td>756</td>\n",
       "      <td>-6548.45</td>\n",
       "      <td>YearRemodAdd</td>\n",
       "      <td>1970</td>\n",
       "      <td>-5232.54</td>\n",
       "      <td>GarageArea</td>\n",
       "      <td>642</td>\n",
       "      <td>4384.29</td>\n",
       "      <td>OverallQual</td>\n",
       "      <td>7</td>\n",
       "      <td>4330.48</td>\n",
       "      <td>MSSubClass</td>\n",
       "      <td>3</td>\n",
       "      <td>-3676.29</td>\n",
       "    </tr>\n",
       "    <tr>\n",
       "      <th>5</th>\n",
       "      <td>253226.682587</td>\n",
       "      <td>OverallQual</td>\n",
       "      <td>8</td>\n",
       "      <td>55722.1</td>\n",
       "      <td>GrLivArea</td>\n",
       "      <td>2198</td>\n",
       "      <td>17176.5</td>\n",
       "      <td>GarageArea</td>\n",
       "      <td>836</td>\n",
       "      <td>14907.7</td>\n",
       "      <td>1stFlrSF</td>\n",
       "      <td>1145</td>\n",
       "      <td>-9531.58</td>\n",
       "      <td>LotArea</td>\n",
       "      <td>14260</td>\n",
       "      <td>8143.13</td>\n",
       "    </tr>\n",
       "  </tbody>\n",
       "</table>\n",
       "</div>"
      ],
      "text/plain": [
       "           ypred    feature_1 value_1 contribution_1     feature_2 value_2  \\\n",
       "1  206462.878757  OverallQual       7        8248.82   TotalBsmtSF     856   \n",
       "2  181533.722748  OverallQual       6       -14419.4     GrLivArea    1262   \n",
       "3  223035.016548    GrLivArea    1786        15880.4   OverallQual       7   \n",
       "4  163889.216253  TotalBsmtSF     756       -6548.45  YearRemodAdd    1970   \n",
       "5  253226.682587  OverallQual       8        55722.1     GrLivArea    2198   \n",
       "\n",
       "  contribution_2    feature_3 value_3 contribution_3    feature_4 value_4  \\\n",
       "1        -5165.5    YearBuilt    2003        3870.96    BsmtUnfSF     150   \n",
       "2       -9238.07  OverallCond       8        6371.61   BsmtFinSF1     978   \n",
       "3        9651.28   GarageArea     608        6259.46  TotalBsmtSF     920   \n",
       "4       -5232.54   GarageArea     642        4384.29  OverallQual       7   \n",
       "5        17176.5   GarageArea     836        14907.7     1stFlrSF    1145   \n",
       "\n",
       "  contribution_4   feature_5 value_5 contribution_5  \n",
       "1        3769.64  GarageArea     548        3107.92  \n",
       "2        5102.47  Fireplaces       1        4450.28  \n",
       "3       -5338.34   YearBuilt    2001        3837.76  \n",
       "4        4330.48  MSSubClass       3       -3676.29  \n",
       "5       -9531.58     LotArea   14260        8143.13  "
      ]
     },
     "execution_count": 29,
     "metadata": {},
     "output_type": "execute_result"
    }
   ],
   "source": [
    "explanation.head()"
   ]
  }
 ],
 "metadata": {
  "celltoolbar": "Aucun(e)",
  "kernelspec": {
   "display_name": "env_test_shapash_lot2",
   "language": "python",
   "name": "env_test_shapash_lot2"
  },
  "language_info": {
   "codemirror_mode": {
    "name": "ipython",
    "version": 3
   },
   "file_extension": ".py",
   "mimetype": "text/x-python",
   "name": "python",
   "nbconvert_exporter": "python",
   "pygments_lexer": "ipython3",
   "version": "3.6.11"
  },
  "pycharm": {
   "stem_cell": {
    "cell_type": "raw",
    "metadata": {
     "collapsed": false
    },
    "source": []
   }
  }
 },
 "nbformat": 4,
 "nbformat_minor": 4
}
