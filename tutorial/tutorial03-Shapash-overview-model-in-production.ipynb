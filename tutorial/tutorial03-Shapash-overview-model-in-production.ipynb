{
 "cells": [
  {
   "cell_type": "markdown",
   "metadata": {},
   "source": [
    "# Shapash model in production - Overview\n",
    "\n",
    "<b>With this tutorial you:</b><br />\n",
    "Understand how create a Shapash SmartPredictor to make prediction and have explanation in production\n",
    "with a simple use case.<br />\n",
    "\n",
    "A tutorial more detailed, will go further to help you getting started with the SmartPredictor Object.\n",
    "\n",
    "Contents:\n",
    "- Build a Regressor\n",
    "- Compile Shapash SmartExplainer\n",
    "- Compile Shapash SmartExplainer to SmartPredictor\n",
    "- Save Shapash Smartpredictor Object in pickle file\n",
    "- Make a prediction\n",
    "\n",
    "Data from Kaggle [House Prices](https://www.kaggle.com/c/house-prices-advanced-regression-techniques/data)"
   ]
  },
  {
   "cell_type": "code",
   "execution_count": 2,
   "metadata": {},
   "outputs": [],
   "source": [
    "import pandas as pd\n",
    "from category_encoders import OrdinalEncoder\n",
    "from lightgbm import LGBMRegressor\n",
    "from sklearn.model_selection import train_test_split"
   ]
  },
  {
   "cell_type": "markdown",
   "metadata": {},
   "source": [
    "## Building Supervized Model "
   ]
  },
  {
   "cell_type": "markdown",
   "metadata": {},
   "source": [
    "In this section, we will train a Machine Learning supervized model with our data House Prices."
   ]
  },
  {
   "cell_type": "code",
   "execution_count": 3,
   "metadata": {},
   "outputs": [],
   "source": [
    "from shapash.data.data_loader import data_loading\n",
    "house_df, house_dict = data_loading('house_prices')"
   ]
  },
  {
   "cell_type": "code",
   "execution_count": 4,
   "metadata": {},
   "outputs": [],
   "source": [
    "y_df=house_df['SalePrice'].to_frame()\n",
    "X_df=house_df[house_df.columns.difference(['SalePrice'])]"
   ]
  },
  {
   "cell_type": "markdown",
   "metadata": {},
   "source": [
    "#### Encoding Categorical Features "
   ]
  },
  {
   "cell_type": "markdown",
   "metadata": {},
   "source": [
    "We need to use a preprocessing on our data for handling categorical features before the training step."
   ]
  },
  {
   "cell_type": "code",
   "execution_count": 5,
   "metadata": {},
   "outputs": [
    {
     "name": "stderr",
     "output_type": "stream",
     "text": [
      "is_categorical is deprecated and will be removed in a future version.  Use is_categorical_dtype instead\n"
     ]
    }
   ],
   "source": [
    "from category_encoders import OrdinalEncoder\n",
    "\n",
    "categorical_features = [col for col in X_df.columns if X_df[col].dtype == 'object']\n",
    "\n",
    "encoder = OrdinalEncoder(\n",
    "    cols=categorical_features,\n",
    "    handle_unknown='ignore',\n",
    "    return_df=True).fit(X_df)\n",
    "\n",
    "X_df=encoder.transform(X_df)"
   ]
  },
  {
   "cell_type": "markdown",
   "metadata": {},
   "source": [
    "#### Train / Test Split"
   ]
  },
  {
   "cell_type": "code",
   "execution_count": 6,
   "metadata": {},
   "outputs": [],
   "source": [
    "Xtrain, Xtest, ytrain, ytest = train_test_split(X_df, y_df, train_size=0.75, random_state=1)"
   ]
  },
  {
   "cell_type": "markdown",
   "metadata": {},
   "source": [
    "#### Model Fitting"
   ]
  },
  {
   "cell_type": "code",
   "execution_count": 7,
   "metadata": {},
   "outputs": [],
   "source": [
    "regressor = LGBMRegressor(n_estimators=200).fit(Xtrain,ytrain)"
   ]
  },
  {
   "cell_type": "code",
   "execution_count": 8,
   "metadata": {},
   "outputs": [],
   "source": [
    "y_pred = pd.DataFrame(regressor.predict(Xtest),columns=['pred'],index=Xtest.index)"
   ]
  },
  {
   "cell_type": "markdown",
   "metadata": {},
   "source": [
    "## Understand my model with shapash"
   ]
  },
  {
   "cell_type": "markdown",
   "metadata": {},
   "source": [
    "- In this section, we will use the SmartExplainer Object from shapash which allow the users to understand how the model works with the dataset specified. \n",
    "- This object must be used only for data mining step. Shapash provide another object for deployment.\n",
    "- In this tutorial, we will not explore possibilites of the SmartExplainer but others will. (you can go check them)"
   ]
  },
  {
   "cell_type": "markdown",
   "metadata": {},
   "source": [
    "#### Declare and Compile SmartExplainer "
   ]
  },
  {
   "cell_type": "code",
   "execution_count": 9,
   "metadata": {},
   "outputs": [],
   "source": [
    "from shapash.explainer.smart_explainer import SmartExplainer"
   ]
  },
  {
   "cell_type": "code",
   "execution_count": 10,
   "metadata": {},
   "outputs": [],
   "source": [
    "xpl = SmartExplainer()"
   ]
  },
  {
   "cell_type": "code",
   "execution_count": 11,
   "metadata": {},
   "outputs": [
    {
     "name": "stdout",
     "output_type": "stream",
     "text": [
      "Backend: Shap TreeExplainer\n"
     ]
    }
   ],
   "source": [
    "xpl.compile(\n",
    "    x=Xtest,\n",
    "    model=regressor,\n",
    "    preprocessing=encoder, # Optional: compile step can use inverse_transform method\n",
    "    y_pred=y_pred # Optional\n",
    ")"
   ]
  },
  {
   "cell_type": "markdown",
   "metadata": {},
   "source": [
    "#### Compile SmartExplainer to SmartPredictor"
   ]
  },
  {
   "cell_type": "markdown",
   "metadata": {},
   "source": [
    "- When you are satisfied by your results and the explainablity given by Shapash, you can use the SmartPredictor object for deployement. \n",
    "- In this section, we will learn how to easily switch from SmartExplainer to a SmartPredictor.\n",
    "- SmartPredictor allows you not to only understand results of your models but also to produce those results on new data automatically.\n",
    "- It will make new predictions and summarize explainability that you configured  to make it operational to your needs.\n",
    "- SmartPredictor take only neccessary attribute to be lighter and more consistent than Smartexplainer for deployment context. \n",
    "- SmartPredictor can be use with API or in batch mode."
   ]
  },
  {
   "cell_type": "code",
   "execution_count": 12,
   "metadata": {},
   "outputs": [],
   "source": [
    "predictor = xpl.to_smartpredictor()"
   ]
  },
  {
   "cell_type": "markdown",
   "metadata": {},
   "source": [
    "## Save and Load your Predictor"
   ]
  },
  {
   "cell_type": "markdown",
   "metadata": {},
   "source": [
    "You can easily save and load your SmartPredictor Object in pickle."
   ]
  },
  {
   "cell_type": "markdown",
   "metadata": {},
   "source": [
    "#### Save your predictor in Pickle File"
   ]
  },
  {
   "cell_type": "code",
   "execution_count": 13,
   "metadata": {},
   "outputs": [],
   "source": [
    "predictor.save('./predictor.pkl')"
   ]
  },
  {
   "cell_type": "markdown",
   "metadata": {},
   "source": [
    "#### Load your predictor in Pickle File"
   ]
  },
  {
   "cell_type": "code",
   "execution_count": 14,
   "metadata": {},
   "outputs": [],
   "source": [
    "from shapash.utils.load_smartpredictor import load_smartpredictor"
   ]
  },
  {
   "cell_type": "code",
   "execution_count": 15,
   "metadata": {},
   "outputs": [],
   "source": [
    "predictor_load = load_smartpredictor('./predictor.pkl')"
   ]
  },
  {
   "cell_type": "markdown",
   "metadata": {},
   "source": [
    "## Make a prediction with your Predictor"
   ]
  },
  {
   "cell_type": "markdown",
   "metadata": {},
   "source": [
    "- In order to make new predictions and summarize local explainability of your model on new datasets, you can use the method add_input of the SmartPredictor.\n",
    "- The add_input method is the first step to add a dataset for prediction and explainability.\n",
    "- It checks the structure of the dataset, the prediction and the contribution if specified. \n",
    "- It applies the preprocessing specified in the initialisation and reorder the features with the order used by the model. (see the documentation on this method)\n",
    "- In API mode, this method can handle dictionnaries data which can be received from a GET or a POST request."
   ]
  },
  {
   "cell_type": "markdown",
   "metadata": {},
   "source": [
    "#### Add data"
   ]
  },
  {
   "cell_type": "code",
   "execution_count": 16,
   "metadata": {},
   "outputs": [],
   "source": [
    "predictor_load.add_input(x=X_df, ypred=y_df)"
   ]
  },
  {
   "cell_type": "markdown",
   "metadata": {},
   "source": [
    "#### Make prediction"
   ]
  },
  {
   "cell_type": "markdown",
   "metadata": {},
   "source": [
    "Then, we can see ypred is the one given in add_input method by checking the attribute data[\"ypred\"]. If not specified, it will automatically be computed in the method. "
   ]
  },
  {
   "cell_type": "code",
   "execution_count": 17,
   "metadata": {},
   "outputs": [
    {
     "name": "stdout",
     "output_type": "stream",
     "text": [
      ".. table:: \n",
      "\n",
      "    +---------+\n",
      "    |SalePrice|\n",
      "    +=========+\n",
      "    |   208500|\n",
      "    +---------+\n",
      "    |   181500|\n",
      "    +---------+\n",
      "    |   223500|\n",
      "    +---------+\n",
      "    |   140000|\n",
      "    +---------+\n",
      "    |   250000|\n",
      "    +---------+\n"
     ]
    }
   ],
   "source": [
    "predictor_load.data[\"ypred\"]"
   ]
  },
  {
   "cell_type": "markdown",
   "metadata": {},
   "source": [
    "#### Get detailed explanability associated to the prediction"
   ]
  },
  {
   "cell_type": "markdown",
   "metadata": {},
   "source": [
    "- You can use the method detail_contributions to see the detailed contributions of each of your features for each row of your new dataset.\n",
    "- For classification problems, it will automatically associated contributions with the right predicted label. \n",
    "- The predicted label can be compute automatically with predict method or you can specify in add_input method an ypred"
   ]
  },
  {
   "cell_type": "code",
   "execution_count": 18,
   "metadata": {},
   "outputs": [],
   "source": [
    "detailed_contributions = predictor_load.detail_contributions()"
   ]
  },
  {
   "cell_type": "code",
   "execution_count": 20,
   "metadata": {},
   "outputs": [
    {
     "name": "stdout",
     "output_type": "stream",
     "text": [
      ".. table:: \n",
      "\n",
      "    +---------+--------+--------+---------+------------+--------+--------+------------+----------+----------+------------+------------+------------+------------+--------+---------+----------+----------+----------+----------+-------------+---------+---------+-----------+-----------+----------+----------+--------+----------+----------+----------+------------+----------+----------+-----------+---------+--------+-------+---------+----------+------------+-----------+-----------+---------+-------+---------+--------+------------+----------+--------+----------+----------+-------+-------+------------+-----------+-----------+-----------+----------+--------+--------+---------+-------------+--------+-----------+------+------------+-----------+---------+----------+---------+------------+-------+\n",
      "    |SalePrice|1stFlrSF|2ndFlrSF|3SsnPorch|BedroomAbvGr|BldgType|BsmtCond|BsmtExposure|BsmtFinSF1|BsmtFinSF2|BsmtFinType1|BsmtFinType2|BsmtFullBath|BsmtHalfBath|BsmtQual|BsmtUnfSF|CentralAir|Condition1|Condition2|Electrical|EnclosedPorch|ExterCond|ExterQual|Exterior1st|Exterior2nd|Fireplaces|Foundation|FullBath|Functional|GarageArea|GarageCond|GarageFinish|GarageQual|GarageType|GarageYrBlt|GrLivArea|HalfBath|Heating|HeatingQC|HouseStyle|KitchenAbvGr|KitchenQual|LandContour|LandSlope|LotArea|LotConfig|LotShape|LowQualFinSF|MSSubClass|MSZoning|MasVnrArea|MasVnrType|MiscVal|MoSold |Neighborhood|OpenPorchSF|OverallCond|OverallQual|PavedDrive|PoolArea|RoofMatl|RoofStyle|SaleCondition|SaleType|ScreenPorch|Street|TotRmsAbvGrd|TotalBsmtSF|Utilities|WoodDeckSF|YearBuilt|YearRemodAdd|YrSold |\n",
      "    +=========+========+========+=========+============+========+========+============+==========+==========+============+============+============+============+========+=========+==========+==========+==========+==========+=============+=========+=========+===========+===========+==========+==========+========+==========+==========+==========+============+==========+==========+===========+=========+========+=======+=========+==========+============+===========+===========+=========+=======+=========+========+============+==========+========+==========+==========+=======+=======+============+===========+===========+===========+==========+========+========+=========+=============+========+===========+======+============+===========+=========+==========+=========+============+=======+\n",
      "    |   208500| -1105.0| 1281.45|        0|       375.7|  12.260|   157.2|      -233.0|   -738.45|    -59.29|      1756.7|      -4.464|      1457.5|     -12.514| -156.91|   3769.6|     87.32|     406.3|         0|   -102.72|       64.689|    80.49|    36.93|     395.35|      457.4|    -684.7|     241.8|  -166.0|     335.0|    3107.9|     34.90|     -28.351|     304.5|     832.4|      226.1|   2706.5|   286.1| -17.38|    73.05|    14.206|       71.56|    -1032.4|     -7.534|        0| -12.51|   -276.8|  -109.9|           0|    2069.9|   175.0|     703.6|   -0.7997|-15.600| -629.7|       456.9|     1347.2|    -1507.9|     8248.8|     58.86|       0|       0|  -17.468|       385.57| -104.65|     -351.6|     0|      -498.2|    -5165.5|        0|    -944.0|   3871.0|      2219.3|  17.48|\n",
      "    +---------+--------+--------+---------+------------+--------+--------+------------+----------+----------+------------+------------+------------+------------+--------+---------+----------+----------+----------+----------+-------------+---------+---------+-----------+-----------+----------+----------+--------+----------+----------+----------+------------+----------+----------+-----------+---------+--------+-------+---------+----------+------------+-----------+-----------+---------+-------+---------+--------+------------+----------+--------+----------+----------+-------+-------+------------+-----------+-----------+-----------+----------+--------+--------+---------+-------------+--------+-----------+------+------------+-----------+---------+----------+---------+------------+-------+\n",
      "    |   181500|  1629.1| -683.69|        0|       127.2|   8.045|   166.5|     -1112.6|   5781.67|    -76.74|      1545.9|      -3.002|      -612.1|      80.065|  484.04|    611.0|    238.35|     513.5|         0|    -72.65|       -4.472|    34.11|  -217.79|     340.65|     -103.3|    4165.2|     436.3|   623.7|     356.6|    -711.4|     51.74|     335.442|     197.4|     288.4|     -962.5| -10016.3|  -294.7| -20.87|   -33.75|    25.084|       88.06|      114.2|     80.720|        0|-794.90|   -100.0|  -319.9|           0|     902.7|   343.6|    -511.0|   58.2999|-18.709|  364.7|      2753.1|     -532.2|     6899.3|   -14555.9|     50.87|       0|       0|  -57.006|       306.40| -229.80|     -217.5|     0|      -546.0|     2783.7|        0|    2388.1|    340.2|     -4310.0| 413.35|\n",
      "    +---------+--------+--------+---------+------------+--------+--------+------------+----------+----------+------------+------------+------------+------------+--------+---------+----------+----------+----------+----------+-------------+---------+---------+-----------+-----------+----------+----------+--------+----------+----------+----------+------------+----------+----------+-----------+---------+--------+-------+---------+----------+------------+-----------+-----------+---------+-------+---------+--------+------------+----------+--------+----------+----------+-------+-------+------------+-----------+-----------+-----------+----------+--------+--------+---------+-------------+--------+-----------+------+------------+-----------+---------+----------+---------+------------+-------+\n",
      "    |   223500| -1321.1| -556.40|        0|       361.5|  10.475|   197.2|      -532.0|     61.50|    -84.60|      1440.2|      -2.108|      1806.2|     -14.254|  -65.43|    927.8|     89.36|     399.9|         0|   -132.47|       28.185|    69.26|   656.77|     114.67|      440.1|    1218.0|     456.0|  -171.0|     415.1|    5998.6|     29.34|      20.654|     290.1|     518.2|     -168.8|  15708.3|   577.7| -15.56|    59.28|   -24.845|       56.33|     -519.5|    -28.963|        0|-402.46|   -248.8|  -506.4|           0|    2473.1|   175.7|    -295.7|  -12.2395|-18.589| -393.4|       260.4|      207.8|    -1630.0|    11084.5|     67.35|       0|       0|   48.150|       759.31|  -91.18|     -323.3|     0|      -178.8|    -5157.3|        0|    -919.5|   3877.0|      2141.7| -72.95|\n",
      "    +---------+--------+--------+---------+------------+--------+--------+------------+----------+----------+------------+------------+------------+------------+--------+---------+----------+----------+----------+----------+-------------+---------+---------+-----------+-----------+----------+----------+--------+----------+----------+----------+------------+----------+----------+-----------+---------+--------+-------+---------+----------+------------+-----------+-----------+---------+-------+---------+--------+------------+----------+--------+----------+----------+-------+-------+------------+-----------+-----------+-----------+----------+--------+--------+---------+-------------+--------+-----------+------+------------+-----------+---------+----------+---------+------------+-------+\n",
      "    |   140000|  -991.6|   20.08|        0|       310.4|   9.720|   226.6|      -502.5|  -3170.03|    -95.89|      1441.0|      -4.973|       963.5|     -13.619| -234.37|   -289.7|    158.14|     432.3|         0|   -103.34|     -707.714|   114.40|   -80.38|      82.37|      211.0|    1462.0|     206.6|  -294.7|     387.1|    6651.6|     23.95|      -2.171|     290.4|     679.0|      315.7|   2969.7|  -263.4| -17.00|   419.86|    -2.777|       68.04|    -1288.9|    -86.747|        0|-825.75|   -245.6|  -291.1|           0|    2767.3|   415.8|    -709.2|   13.9822|-18.257| -889.9|      1585.2|      452.0|    -1875.1|     8188.4|     69.15|       0|       0|   86.058|       345.70|  -89.32|     -344.8|     0|      -608.0|    -5882.2|        0|    -853.1|  -3740.8|     -4930.9| 555.38|\n",
      "    +---------+--------+--------+---------+------------+--------+--------+------------+----------+----------+------------+------------+------------+------------+--------+---------+----------+----------+----------+----------+-------------+---------+---------+-----------+-----------+----------+----------+--------+----------+----------+----------+------------+----------+----------+-----------+---------+--------+-------+---------+----------+------------+-----------+-----------+---------+-------+---------+--------+------------+----------+--------+----------+----------+-------+-------+------------+-----------+-----------+-----------+----------+--------+--------+---------+-------------+--------+-----------+------+------------+-----------+---------+----------+---------+------------+-------+\n",
      "    |   250000| -8807.7|-1061.02|        0|     -1580.4|   7.868|   124.9|      -237.6|  -2109.99|    -95.46|       603.6|       1.101|       833.5|      -4.190| -392.37|   -477.5|    125.15|     200.8|         0|    -56.36|       18.642|    39.93| -1889.29|     253.88|      259.9|     886.0|     190.1|  -309.1|     252.5|   15161.9|     21.99|      22.500|     121.3|     218.2|     -361.6|  16891.9|   577.7| -18.30|    72.30|  -113.239|       52.48|    -4611.8|    -97.218|        0|7905.51|   -412.6|  -498.7|           0|     875.5|   129.9|    6318.0|  266.8708| -9.056|-4240.1|      -214.7|     -828.3|    -2403.3|    58568.4|     43.47|       0|       0|   -9.469|       -50.49| -481.12|     -384.1|     0|     -4071.6|    -4866.8|        0|     270.9|   2394.7|      1533.3|-233.44|\n",
      "    +---------+--------+--------+---------+------------+--------+--------+------------+----------+----------+------------+------------+------------+------------+--------+---------+----------+----------+----------+----------+-------------+---------+---------+-----------+-----------+----------+----------+--------+----------+----------+----------+------------+----------+----------+-----------+---------+--------+-------+---------+----------+------------+-----------+-----------+---------+-------+---------+--------+------------+----------+--------+----------+----------+-------+-------+------------+-----------+-----------+-----------+----------+--------+--------+---------+-------------+--------+-----------+------+------------+-----------+---------+----------+---------+------------+-------+\n"
     ]
    }
   ],
   "source": [
    "detailed_contributions.head()"
   ]
  },
  {
   "cell_type": "markdown",
   "metadata": {},
   "source": [
    "#### Summarize explanability of the predictions"
   ]
  },
  {
   "cell_type": "markdown",
   "metadata": {},
   "source": [
    "- You can use the summarize method to summarize your local explainability\n",
    "- This summary can be configured with the method modify_mask in order for you to have the explainability that satisfy your operational needs\n",
    "- You can also specify :\n",
    ">- a postprocessing when you initialize your SmartPredictor to apply a wording to several values of your dataset.\n",
    ">- a label_dict to rename your label in classification problems (during the initialisation of your SmartPredictor).\n",
    ">- a features_dict to rename your features."
   ]
  },
  {
   "cell_type": "code",
   "execution_count": 21,
   "metadata": {},
   "outputs": [],
   "source": [
    "predictor_load.modify_mask(max_contrib=5)"
   ]
  },
  {
   "cell_type": "code",
   "execution_count": 22,
   "metadata": {},
   "outputs": [],
   "source": [
    "explanation = predictor_load.summarize()"
   ]
  },
  {
   "cell_type": "markdown",
   "metadata": {},
   "source": [
    "For example, here, we choose to only build a summary with 5 most contributives features of your datasets."
   ]
  },
  {
   "cell_type": "code",
   "execution_count": 23,
   "metadata": {},
   "outputs": [
    {
     "name": "stdout",
     "output_type": "stream",
     "text": [
      ".. table:: \n",
      "\n",
      "    +---------+-----------+-------+--------------+-----------+-------+--------------+-----------+-------+--------------+------------+-------+--------------+------------+-------+--------------+\n",
      "    |SalePrice| feature_1 |value_1|contribution_1| feature_2 |value_2|contribution_2| feature_3 |value_3|contribution_3| feature_4  |value_4|contribution_4| feature_5  |value_5|contribution_5|\n",
      "    +=========+===========+=======+==============+===========+=======+==============+===========+=======+==============+============+=======+==============+============+=======+==============+\n",
      "    |   208500|OverallQual|      7|        8248.8|TotalBsmtSF|    856|       -5165.5|YearBuilt  |   2003|        3871.0|BsmtUnfSF   |    150|        3769.6|GarageArea  |    548|        3107.9|\n",
      "    +---------+-----------+-------+--------------+-----------+-------+--------------+-----------+-------+--------------+------------+-------+--------------+------------+-------+--------------+\n",
      "    |   181500|OverallQual|      6|      -14555.9|GrLivArea  |   1262|      -10016.3|OverallCond|      8|        6899.3|BsmtFinSF1  |    978|        5781.7|YearRemodAdd|   1976|       -4310.0|\n",
      "    +---------+-----------+-------+--------------+-----------+-------+--------------+-----------+-------+--------------+------------+-------+--------------+------------+-------+--------------+\n",
      "    |   223500|GrLivArea  |   1786|       15708.3|OverallQual|      7|       11084.5|GarageArea |    608|        5998.6|TotalBsmtSF |    920|       -5157.3|YearBuilt   |   2001|        3877.0|\n",
      "    +---------+-----------+-------+--------------+-----------+-------+--------------+-----------+-------+--------------+------------+-------+--------------+------------+-------+--------------+\n",
      "    |   140000|OverallQual|      7|        8188.4|GarageArea |    642|        6651.6|TotalBsmtSF|    756|       -5882.2|YearRemodAdd|   1970|       -4930.9|YearBuilt   |   1915|       -3740.8|\n",
      "    +---------+-----------+-------+--------------+-----------+-------+--------------+-----------+-------+--------------+------------+-------+--------------+------------+-------+--------------+\n",
      "    |   250000|OverallQual|      8|       58568.4|GrLivArea  |   2198|       16891.9|GarageArea |    836|       15161.9|1stFlrSF    |   1145|       -8807.7|LotArea     |  14260|        7905.5|\n",
      "    +---------+-----------+-------+--------------+-----------+-------+--------------+-----------+-------+--------------+------------+-------+--------------+------------+-------+--------------+\n"
     ]
    }
   ],
   "source": [
    "explanation.head()"
   ]
  }
 ],
 "metadata": {
  "celltoolbar": "Aucun(e)",
  "kernelspec": {
   "display_name": "env_test_shapash_lot2",
   "language": "python",
   "name": "env_test_shapash_lot2"
  },
  "language_info": {
   "codemirror_mode": {
    "name": "ipython",
    "version": 3
   },
   "file_extension": ".py",
   "mimetype": "text/x-python",
   "name": "python",
   "nbconvert_exporter": "python",
   "pygments_lexer": "ipython3",
   "version": "3.6.11"
  },
  "pycharm": {
   "stem_cell": {
    "cell_type": "raw",
    "metadata": {
     "collapsed": false
    },
    "source": []
   }
  }
 },
 "nbformat": 4,
 "nbformat_minor": 4
}
